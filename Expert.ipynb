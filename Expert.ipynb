{
 "cells": [
  {
   "cell_type": "code",
   "execution_count": 27,
   "metadata": {},
   "outputs": [],
   "source": [
    "import pandas as pd\n",
    "import numpy as np\n",
    "import seaborn as sns\n",
    "import matplotlib.pyplot as plt"
   ]
  },
  {
   "cell_type": "code",
   "execution_count": 2,
   "metadata": {},
   "outputs": [],
   "source": [
    "customer_df= pd.read_csv('./Customer_data.csv')\n",
    "expert_df= pd.read_csv('./Expert_Data.csv')\n",
    "log_df= pd.read_csv('./Log_Data02.csv')\n",
    "Service_df= pd.read_csv('./Service_Data.csv')"
   ]
  },
  {
   "cell_type": "code",
   "execution_count": 3,
   "metadata": {},
   "outputs": [
    {
     "data": {
      "text/html": [
       "<div>\n",
       "<style scoped>\n",
       "    .dataframe tbody tr th:only-of-type {\n",
       "        vertical-align: middle;\n",
       "    }\n",
       "\n",
       "    .dataframe tbody tr th {\n",
       "        vertical-align: top;\n",
       "    }\n",
       "\n",
       "    .dataframe thead th {\n",
       "        text-align: right;\n",
       "    }\n",
       "</style>\n",
       "<table border=\"1\" class=\"dataframe\">\n",
       "  <thead>\n",
       "    <tr style=\"text-align: right;\">\n",
       "      <th></th>\n",
       "      <th>판매자ID</th>\n",
       "      <th>판매자</th>\n",
       "      <th>판매 서비스 수</th>\n",
       "      <th>총 판매 금액</th>\n",
       "      <th>프리미엄 서비스 가입여부</th>\n",
       "      <th>신속 알람 서비스 사용여부</th>\n",
       "    </tr>\n",
       "  </thead>\n",
       "  <tbody>\n",
       "    <tr>\n",
       "      <th>0</th>\n",
       "      <td>V2_0</td>\n",
       "      <td>김러그</td>\n",
       "      <td>326</td>\n",
       "      <td>147927420</td>\n",
       "      <td>가입</td>\n",
       "      <td>미사용</td>\n",
       "    </tr>\n",
       "    <tr>\n",
       "      <th>1</th>\n",
       "      <td>V2_1</td>\n",
       "      <td>디프라이</td>\n",
       "      <td>43</td>\n",
       "      <td>146832200</td>\n",
       "      <td>가입</td>\n",
       "      <td>미사용</td>\n",
       "    </tr>\n",
       "    <tr>\n",
       "      <th>2</th>\n",
       "      <td>V2_2</td>\n",
       "      <td>Sailorkr</td>\n",
       "      <td>14</td>\n",
       "      <td>140029000</td>\n",
       "      <td>가입</td>\n",
       "      <td>미사용</td>\n",
       "    </tr>\n",
       "    <tr>\n",
       "      <th>3</th>\n",
       "      <td>V2_3</td>\n",
       "      <td>신뢰할만한지식인65</td>\n",
       "      <td>16</td>\n",
       "      <td>130713200</td>\n",
       "      <td>가입</td>\n",
       "      <td>미사용</td>\n",
       "    </tr>\n",
       "    <tr>\n",
       "      <th>4</th>\n",
       "      <td>V2_4</td>\n",
       "      <td>에픽핫</td>\n",
       "      <td>18</td>\n",
       "      <td>126229400</td>\n",
       "      <td>가입</td>\n",
       "      <td>미사용</td>\n",
       "    </tr>\n",
       "  </tbody>\n",
       "</table>\n",
       "</div>"
      ],
      "text/plain": [
       "  판매자ID         판매자  판매 서비스 수    총 판매 금액 프리미엄 서비스 가입여부 신속 알람 서비스 사용여부\n",
       "0  V2_0         김러그       326  147927420            가입            미사용\n",
       "1  V2_1        디프라이        43  146832200            가입            미사용\n",
       "2  V2_2    Sailorkr        14  140029000            가입            미사용\n",
       "3  V2_3  신뢰할만한지식인65        16  130713200            가입            미사용\n",
       "4  V2_4         에픽핫        18  126229400            가입            미사용"
      ]
     },
     "execution_count": 3,
     "metadata": {},
     "output_type": "execute_result"
    }
   ],
   "source": [
    "expert_df.head()"
   ]
  },
  {
   "cell_type": "code",
   "execution_count": 85,
   "metadata": {},
   "outputs": [
    {
     "data": {
      "text/html": [
       "<div>\n",
       "<style scoped>\n",
       "    .dataframe tbody tr th:only-of-type {\n",
       "        vertical-align: middle;\n",
       "    }\n",
       "\n",
       "    .dataframe tbody tr th {\n",
       "        vertical-align: top;\n",
       "    }\n",
       "\n",
       "    .dataframe thead th {\n",
       "        text-align: right;\n",
       "    }\n",
       "</style>\n",
       "<table border=\"1\" class=\"dataframe\">\n",
       "  <thead>\n",
       "    <tr style=\"text-align: right;\">\n",
       "      <th></th>\n",
       "      <th>서비스명</th>\n",
       "      <th>판매자</th>\n",
       "      <th>서비스가격</th>\n",
       "      <th>평점</th>\n",
       "      <th>대분류</th>\n",
       "      <th>서비스번호</th>\n",
       "      <th>판매수</th>\n",
       "    </tr>\n",
       "  </thead>\n",
       "  <tbody>\n",
       "    <tr>\n",
       "      <th>0</th>\n",
       "      <td>\"P2P 대출\" 서비스를 위한 기획을 해 드립니다.</td>\n",
       "      <td>디자인쇼크리더</td>\n",
       "      <td>400000.0</td>\n",
       "      <td>0.0</td>\n",
       "      <td>기획</td>\n",
       "      <td>5651.0</td>\n",
       "      <td>6</td>\n",
       "    </tr>\n",
       "    <tr>\n",
       "      <th>1</th>\n",
       "      <td>\"반응형 웹 퍼블리싱\" 모든 퍼블리싱 작업 맞춤 진행</td>\n",
       "      <td>ThunDesign</td>\n",
       "      <td>15000.0</td>\n",
       "      <td>0.0</td>\n",
       "      <td>홈페이지</td>\n",
       "      <td>6122.0</td>\n",
       "      <td>1</td>\n",
       "    </tr>\n",
       "    <tr>\n",
       "      <th>2</th>\n",
       "      <td>\"이커머스 웹 사이트개발 경력자\"의 쇼핑몰 제작</td>\n",
       "      <td>IAMTRY</td>\n",
       "      <td>500000.0</td>\n",
       "      <td>0.0</td>\n",
       "      <td>커머스</td>\n",
       "      <td>6152.0</td>\n",
       "      <td>3</td>\n",
       "    </tr>\n",
       "    <tr>\n",
       "      <th>3</th>\n",
       "      <td>.NET C# 개발. WPF 또는 WinForms</td>\n",
       "      <td>혼살</td>\n",
       "      <td>1200000.0</td>\n",
       "      <td>5.0</td>\n",
       "      <td>프로그래밍</td>\n",
       "      <td>5009.0</td>\n",
       "      <td>1</td>\n",
       "    </tr>\n",
       "    <tr>\n",
       "      <th>4</th>\n",
       "      <td>.NET, c# 응용프로그램 개발, delphi</td>\n",
       "      <td>JAVASCRIPT</td>\n",
       "      <td>60000.0</td>\n",
       "      <td>5.0</td>\n",
       "      <td>프로그램</td>\n",
       "      <td>4419.0</td>\n",
       "      <td>10</td>\n",
       "    </tr>\n",
       "  </tbody>\n",
       "</table>\n",
       "</div>"
      ],
      "text/plain": [
       "                            서비스명         판매자      서비스가격   평점    대분류   서비스번호   \n",
       "0   \"P2P 대출\" 서비스를 위한 기획을 해 드립니다.     디자인쇼크리더   400000.0  0.0     기획  5651.0  \\\n",
       "1  \"반응형 웹 퍼블리싱\" 모든 퍼블리싱 작업 맞춤 진행  ThunDesign    15000.0  0.0   홈페이지  6122.0   \n",
       "2     \"이커머스 웹 사이트개발 경력자\"의 쇼핑몰 제작      IAMTRY   500000.0  0.0    커머스  6152.0   \n",
       "3    .NET C# 개발. WPF 또는 WinForms          혼살  1200000.0  5.0  프로그래밍  5009.0   \n",
       "4     .NET, c# 응용프로그램 개발, delphi  JAVASCRIPT    60000.0  5.0   프로그램  4419.0   \n",
       "\n",
       "   판매수  \n",
       "0    6  \n",
       "1    1  \n",
       "2    3  \n",
       "3    1  \n",
       "4   10  "
      ]
     },
     "execution_count": 85,
     "metadata": {},
     "output_type": "execute_result"
    }
   ],
   "source": [
    "Service_df.head()"
   ]
  },
  {
   "cell_type": "code",
   "execution_count": 4,
   "metadata": {},
   "outputs": [
    {
     "data": {
      "text/plain": [
       "Index(['판매자ID', '판매자', '판매 서비스 수', '총 판매 금액', '프리미엄 서비스 가입여부',\n",
       "       '신속 알람 서비스 사용여부'],\n",
       "      dtype='object')"
      ]
     },
     "execution_count": 4,
     "metadata": {},
     "output_type": "execute_result"
    }
   ],
   "source": [
    "expert_df.columns"
   ]
  },
  {
   "cell_type": "code",
   "execution_count": 5,
   "metadata": {},
   "outputs": [
    {
     "data": {
      "text/plain": [
       "판매자ID             0\n",
       "판매자               0\n",
       "판매 서비스 수          0\n",
       "총 판매 금액           0\n",
       "프리미엄 서비스 가입여부     0\n",
       "신속 알람 서비스 사용여부    0\n",
       "dtype: int64"
      ]
     },
     "execution_count": 5,
     "metadata": {},
     "output_type": "execute_result"
    }
   ],
   "source": [
    "expert_df.isna().sum()"
   ]
  },
  {
   "cell_type": "code",
   "execution_count": 6,
   "metadata": {},
   "outputs": [
    {
     "data": {
      "text/html": [
       "<div>\n",
       "<style scoped>\n",
       "    .dataframe tbody tr th:only-of-type {\n",
       "        vertical-align: middle;\n",
       "    }\n",
       "\n",
       "    .dataframe tbody tr th {\n",
       "        vertical-align: top;\n",
       "    }\n",
       "\n",
       "    .dataframe thead th {\n",
       "        text-align: right;\n",
       "    }\n",
       "</style>\n",
       "<table border=\"1\" class=\"dataframe\">\n",
       "  <thead>\n",
       "    <tr style=\"text-align: right;\">\n",
       "      <th></th>\n",
       "      <th>판매자ID</th>\n",
       "      <th>판매자</th>\n",
       "      <th>판매 서비스 수</th>\n",
       "      <th>총 판매 금액</th>\n",
       "      <th>프리미엄 서비스 가입여부</th>\n",
       "      <th>신속 알람 서비스 사용여부</th>\n",
       "    </tr>\n",
       "  </thead>\n",
       "  <tbody>\n",
       "    <tr>\n",
       "      <th>count</th>\n",
       "      <td>2066</td>\n",
       "      <td>2066</td>\n",
       "      <td>2066.00000</td>\n",
       "      <td>2.066000e+03</td>\n",
       "      <td>2066</td>\n",
       "      <td>2066</td>\n",
       "    </tr>\n",
       "    <tr>\n",
       "      <th>unique</th>\n",
       "      <td>2066</td>\n",
       "      <td>2066</td>\n",
       "      <td>NaN</td>\n",
       "      <td>NaN</td>\n",
       "      <td>2</td>\n",
       "      <td>2</td>\n",
       "    </tr>\n",
       "    <tr>\n",
       "      <th>top</th>\n",
       "      <td>V2_0</td>\n",
       "      <td>김러그</td>\n",
       "      <td>NaN</td>\n",
       "      <td>NaN</td>\n",
       "      <td>미가입</td>\n",
       "      <td>미사용</td>\n",
       "    </tr>\n",
       "    <tr>\n",
       "      <th>freq</th>\n",
       "      <td>1</td>\n",
       "      <td>1</td>\n",
       "      <td>NaN</td>\n",
       "      <td>NaN</td>\n",
       "      <td>1774</td>\n",
       "      <td>1687</td>\n",
       "    </tr>\n",
       "    <tr>\n",
       "      <th>mean</th>\n",
       "      <td>NaN</td>\n",
       "      <td>NaN</td>\n",
       "      <td>166.63940</td>\n",
       "      <td>1.116331e+07</td>\n",
       "      <td>NaN</td>\n",
       "      <td>NaN</td>\n",
       "    </tr>\n",
       "    <tr>\n",
       "      <th>std</th>\n",
       "      <td>NaN</td>\n",
       "      <td>NaN</td>\n",
       "      <td>342.30936</td>\n",
       "      <td>1.618498e+07</td>\n",
       "      <td>NaN</td>\n",
       "      <td>NaN</td>\n",
       "    </tr>\n",
       "    <tr>\n",
       "      <th>min</th>\n",
       "      <td>NaN</td>\n",
       "      <td>NaN</td>\n",
       "      <td>1.00000</td>\n",
       "      <td>5.000000e+03</td>\n",
       "      <td>NaN</td>\n",
       "      <td>NaN</td>\n",
       "    </tr>\n",
       "    <tr>\n",
       "      <th>25%</th>\n",
       "      <td>NaN</td>\n",
       "      <td>NaN</td>\n",
       "      <td>9.00000</td>\n",
       "      <td>9.618500e+05</td>\n",
       "      <td>NaN</td>\n",
       "      <td>NaN</td>\n",
       "    </tr>\n",
       "    <tr>\n",
       "      <th>50%</th>\n",
       "      <td>NaN</td>\n",
       "      <td>NaN</td>\n",
       "      <td>36.00000</td>\n",
       "      <td>4.139370e+06</td>\n",
       "      <td>NaN</td>\n",
       "      <td>NaN</td>\n",
       "    </tr>\n",
       "    <tr>\n",
       "      <th>75%</th>\n",
       "      <td>NaN</td>\n",
       "      <td>NaN</td>\n",
       "      <td>158.75000</td>\n",
       "      <td>1.508420e+07</td>\n",
       "      <td>NaN</td>\n",
       "      <td>NaN</td>\n",
       "    </tr>\n",
       "    <tr>\n",
       "      <th>max</th>\n",
       "      <td>NaN</td>\n",
       "      <td>NaN</td>\n",
       "      <td>4180.00000</td>\n",
       "      <td>1.479274e+08</td>\n",
       "      <td>NaN</td>\n",
       "      <td>NaN</td>\n",
       "    </tr>\n",
       "  </tbody>\n",
       "</table>\n",
       "</div>"
      ],
      "text/plain": [
       "       판매자ID   판매자    판매 서비스 수       총 판매 금액 프리미엄 서비스 가입여부 신속 알람 서비스 사용여부\n",
       "count   2066  2066  2066.00000  2.066000e+03          2066           2066\n",
       "unique  2066  2066         NaN           NaN             2              2\n",
       "top     V2_0   김러그         NaN           NaN           미가입            미사용\n",
       "freq       1     1         NaN           NaN          1774           1687\n",
       "mean     NaN   NaN   166.63940  1.116331e+07           NaN            NaN\n",
       "std      NaN   NaN   342.30936  1.618498e+07           NaN            NaN\n",
       "min      NaN   NaN     1.00000  5.000000e+03           NaN            NaN\n",
       "25%      NaN   NaN     9.00000  9.618500e+05           NaN            NaN\n",
       "50%      NaN   NaN    36.00000  4.139370e+06           NaN            NaN\n",
       "75%      NaN   NaN   158.75000  1.508420e+07           NaN            NaN\n",
       "max      NaN   NaN  4180.00000  1.479274e+08           NaN            NaN"
      ]
     },
     "execution_count": 6,
     "metadata": {},
     "output_type": "execute_result"
    }
   ],
   "source": [
    "expert_df.describe(include='all')"
   ]
  },
  {
   "cell_type": "code",
   "execution_count": 7,
   "metadata": {},
   "outputs": [
    {
     "data": {
      "text/html": [
       "<div>\n",
       "<style scoped>\n",
       "    .dataframe tbody tr th:only-of-type {\n",
       "        vertical-align: middle;\n",
       "    }\n",
       "\n",
       "    .dataframe tbody tr th {\n",
       "        vertical-align: top;\n",
       "    }\n",
       "\n",
       "    .dataframe thead th {\n",
       "        text-align: right;\n",
       "    }\n",
       "</style>\n",
       "<table border=\"1\" class=\"dataframe\">\n",
       "  <thead>\n",
       "    <tr style=\"text-align: right;\">\n",
       "      <th></th>\n",
       "      <th>거래일자</th>\n",
       "      <th>수수료율</th>\n",
       "      <th>고객ID</th>\n",
       "      <th>프로그램수정횟수</th>\n",
       "      <th>추가결제금액</th>\n",
       "      <th>거래취소여부</th>\n",
       "      <th>거래취소일자</th>\n",
       "      <th>서비스명</th>\n",
       "      <th>판매자</th>\n",
       "      <th>판매금액</th>\n",
       "      <th>서비스가격</th>\n",
       "      <th>평점</th>\n",
       "      <th>이용자수</th>\n",
       "      <th>대분류</th>\n",
       "      <th>서비스번호</th>\n",
       "    </tr>\n",
       "  </thead>\n",
       "  <tbody>\n",
       "    <tr>\n",
       "      <th>0</th>\n",
       "      <td>20210201</td>\n",
       "      <td>6.5</td>\n",
       "      <td>5030100140</td>\n",
       "      <td>0.0</td>\n",
       "      <td>9800</td>\n",
       "      <td>NaN</td>\n",
       "      <td>NaN</td>\n",
       "      <td>카페24,고도몰,메이크샵등 쇼핑몰 수정,코딩,유지보수</td>\n",
       "      <td>logf1</td>\n",
       "      <td>14800.0</td>\n",
       "      <td>5000.0</td>\n",
       "      <td>5.0</td>\n",
       "      <td>584.0</td>\n",
       "      <td>커머스</td>\n",
       "      <td>2102.0</td>\n",
       "    </tr>\n",
       "    <tr>\n",
       "      <th>1</th>\n",
       "      <td>20210201</td>\n",
       "      <td>6.5</td>\n",
       "      <td>8020105385</td>\n",
       "      <td>0.0</td>\n",
       "      <td>0</td>\n",
       "      <td>NaN</td>\n",
       "      <td>NaN</td>\n",
       "      <td>카페24,고도몰,메이크샵등 쇼핑몰 수정,코딩,유지보수</td>\n",
       "      <td>logf1</td>\n",
       "      <td>5000.0</td>\n",
       "      <td>5000.0</td>\n",
       "      <td>5.0</td>\n",
       "      <td>584.0</td>\n",
       "      <td>커머스</td>\n",
       "      <td>2102.0</td>\n",
       "    </tr>\n",
       "    <tr>\n",
       "      <th>2</th>\n",
       "      <td>20210201</td>\n",
       "      <td>6.5</td>\n",
       "      <td>110104033157</td>\n",
       "      <td>0.0</td>\n",
       "      <td>9200</td>\n",
       "      <td>NaN</td>\n",
       "      <td>NaN</td>\n",
       "      <td>엑셀 VBA, 매크로, ERP 프로그램 개발해 드립니다.</td>\n",
       "      <td>엑셀의신</td>\n",
       "      <td>19200.0</td>\n",
       "      <td>10000.0</td>\n",
       "      <td>5.0</td>\n",
       "      <td>583.0</td>\n",
       "      <td>데이터</td>\n",
       "      <td>2103.0</td>\n",
       "    </tr>\n",
       "    <tr>\n",
       "      <th>3</th>\n",
       "      <td>20210201</td>\n",
       "      <td>7.5</td>\n",
       "      <td>40203001176</td>\n",
       "      <td>0.0</td>\n",
       "      <td>11000</td>\n",
       "      <td>NaN</td>\n",
       "      <td>NaN</td>\n",
       "      <td>엑셀을 이용 서식과 집계, 분석 및 VBA 프로그래밍</td>\n",
       "      <td>태구리</td>\n",
       "      <td>61000.0</td>\n",
       "      <td>50000.0</td>\n",
       "      <td>5.0</td>\n",
       "      <td>504.0</td>\n",
       "      <td>데이터</td>\n",
       "      <td>2105.0</td>\n",
       "    </tr>\n",
       "    <tr>\n",
       "      <th>4</th>\n",
       "      <td>20210201</td>\n",
       "      <td>6.5</td>\n",
       "      <td>5041700297</td>\n",
       "      <td>0.0</td>\n",
       "      <td>0</td>\n",
       "      <td>NaN</td>\n",
       "      <td>NaN</td>\n",
       "      <td>엑셀을 이용 서식과 집계, 분석 및 VBA 프로그래밍</td>\n",
       "      <td>태구리</td>\n",
       "      <td>50000.0</td>\n",
       "      <td>50000.0</td>\n",
       "      <td>5.0</td>\n",
       "      <td>504.0</td>\n",
       "      <td>데이터</td>\n",
       "      <td>2105.0</td>\n",
       "    </tr>\n",
       "  </tbody>\n",
       "</table>\n",
       "</div>"
      ],
      "text/plain": [
       "       거래일자  수수료율          고객ID  프로그램수정횟수  추가결제금액  거래취소여부  거래취소일자   \n",
       "0  20210201   6.5    5030100140       0.0    9800     NaN     NaN  \\\n",
       "1  20210201   6.5    8020105385       0.0       0     NaN     NaN   \n",
       "2  20210201   6.5  110104033157       0.0    9200     NaN     NaN   \n",
       "3  20210201   7.5   40203001176       0.0   11000     NaN     NaN   \n",
       "4  20210201   6.5    5041700297       0.0       0     NaN     NaN   \n",
       "\n",
       "                              서비스명    판매자     판매금액    서비스가격   평점   이용자수  대분류   \n",
       "0    카페24,고도몰,메이크샵등 쇼핑몰 수정,코딩,유지보수  logf1  14800.0   5000.0  5.0  584.0  커머스  \\\n",
       "1    카페24,고도몰,메이크샵등 쇼핑몰 수정,코딩,유지보수  logf1   5000.0   5000.0  5.0  584.0  커머스   \n",
       "2  엑셀 VBA, 매크로, ERP 프로그램 개발해 드립니다.   엑셀의신  19200.0  10000.0  5.0  583.0  데이터   \n",
       "3    엑셀을 이용 서식과 집계, 분석 및 VBA 프로그래밍    태구리  61000.0  50000.0  5.0  504.0  데이터   \n",
       "4    엑셀을 이용 서식과 집계, 분석 및 VBA 프로그래밍    태구리  50000.0  50000.0  5.0  504.0  데이터   \n",
       "\n",
       "    서비스번호  \n",
       "0  2102.0  \n",
       "1  2102.0  \n",
       "2  2103.0  \n",
       "3  2105.0  \n",
       "4  2105.0  "
      ]
     },
     "execution_count": 7,
     "metadata": {},
     "output_type": "execute_result"
    }
   ],
   "source": [
    "log_df.head()"
   ]
  },
  {
   "cell_type": "code",
   "execution_count": 8,
   "metadata": {},
   "outputs": [
    {
     "data": {
      "text/html": [
       "<div>\n",
       "<style scoped>\n",
       "    .dataframe tbody tr th:only-of-type {\n",
       "        vertical-align: middle;\n",
       "    }\n",
       "\n",
       "    .dataframe tbody tr th {\n",
       "        vertical-align: top;\n",
       "    }\n",
       "\n",
       "    .dataframe thead th {\n",
       "        text-align: right;\n",
       "    }\n",
       "</style>\n",
       "<table border=\"1\" class=\"dataframe\">\n",
       "  <thead>\n",
       "    <tr style=\"text-align: right;\">\n",
       "      <th></th>\n",
       "      <th>서비스명</th>\n",
       "      <th>판매자</th>\n",
       "      <th>대분류</th>\n",
       "    </tr>\n",
       "  </thead>\n",
       "  <tbody>\n",
       "    <tr>\n",
       "      <th>count</th>\n",
       "      <td>344277</td>\n",
       "      <td>344277</td>\n",
       "      <td>344277</td>\n",
       "    </tr>\n",
       "    <tr>\n",
       "      <th>unique</th>\n",
       "      <td>2787</td>\n",
       "      <td>2066</td>\n",
       "      <td>12</td>\n",
       "    </tr>\n",
       "    <tr>\n",
       "      <th>top</th>\n",
       "      <td>VBA 프로그램 , 엑셀 매크로 제작해 드립니다.</td>\n",
       "      <td>시스픽스</td>\n",
       "      <td>홈페이지</td>\n",
       "    </tr>\n",
       "    <tr>\n",
       "      <th>freq</th>\n",
       "      <td>3738</td>\n",
       "      <td>4180</td>\n",
       "      <td>124007</td>\n",
       "    </tr>\n",
       "  </tbody>\n",
       "</table>\n",
       "</div>"
      ],
      "text/plain": [
       "                               서비스명     판매자     대분류\n",
       "count                        344277  344277  344277\n",
       "unique                         2787    2066      12\n",
       "top     VBA 프로그램 , 엑셀 매크로 제작해 드립니다.    시스픽스    홈페이지\n",
       "freq                           3738    4180  124007"
      ]
     },
     "execution_count": 8,
     "metadata": {},
     "output_type": "execute_result"
    }
   ],
   "source": [
    "log_df.describe(include='object')"
   ]
  },
  {
   "cell_type": "code",
   "execution_count": 9,
   "metadata": {},
   "outputs": [
    {
     "data": {
      "text/html": [
       "<div>\n",
       "<style scoped>\n",
       "    .dataframe tbody tr th:only-of-type {\n",
       "        vertical-align: middle;\n",
       "    }\n",
       "\n",
       "    .dataframe tbody tr th {\n",
       "        vertical-align: top;\n",
       "    }\n",
       "\n",
       "    .dataframe thead th {\n",
       "        text-align: right;\n",
       "    }\n",
       "</style>\n",
       "<table border=\"1\" class=\"dataframe\">\n",
       "  <thead>\n",
       "    <tr style=\"text-align: right;\">\n",
       "      <th></th>\n",
       "      <th>판매자</th>\n",
       "      <th>서비스가격</th>\n",
       "      <th>판매금액</th>\n",
       "      <th>평점</th>\n",
       "    </tr>\n",
       "  </thead>\n",
       "  <tbody>\n",
       "    <tr>\n",
       "      <th>0</th>\n",
       "      <td>0to1</td>\n",
       "      <td>5000.000000</td>\n",
       "      <td>6987.500000</td>\n",
       "      <td>5.000000</td>\n",
       "    </tr>\n",
       "    <tr>\n",
       "      <th>1</th>\n",
       "      <td>100ME</td>\n",
       "      <td>88452.655889</td>\n",
       "      <td>90524.018476</td>\n",
       "      <td>5.000000</td>\n",
       "    </tr>\n",
       "    <tr>\n",
       "      <th>2</th>\n",
       "      <td>10xDeveloper</td>\n",
       "      <td>23742.857143</td>\n",
       "      <td>26557.257143</td>\n",
       "      <td>4.941714</td>\n",
       "    </tr>\n",
       "    <tr>\n",
       "      <th>3</th>\n",
       "      <td>10년차웹개발자</td>\n",
       "      <td>21312.500000</td>\n",
       "      <td>25131.625000</td>\n",
       "      <td>4.846250</td>\n",
       "    </tr>\n",
       "    <tr>\n",
       "      <th>4</th>\n",
       "      <td>123abc</td>\n",
       "      <td>150000.000000</td>\n",
       "      <td>168150.000000</td>\n",
       "      <td>0.000000</td>\n",
       "    </tr>\n",
       "    <tr>\n",
       "      <th>...</th>\n",
       "      <td>...</td>\n",
       "      <td>...</td>\n",
       "      <td>...</td>\n",
       "      <td>...</td>\n",
       "    </tr>\n",
       "    <tr>\n",
       "      <th>2061</th>\n",
       "      <td>효베르</td>\n",
       "      <td>11000.000000</td>\n",
       "      <td>14468.245943</td>\n",
       "      <td>5.000000</td>\n",
       "    </tr>\n",
       "    <tr>\n",
       "      <th>2062</th>\n",
       "      <td>효율자동화쟁이</td>\n",
       "      <td>10000.000000</td>\n",
       "      <td>10000.000000</td>\n",
       "      <td>5.000000</td>\n",
       "    </tr>\n",
       "    <tr>\n",
       "      <th>2063</th>\n",
       "      <td>흐</td>\n",
       "      <td>55000.000000</td>\n",
       "      <td>58866.666667</td>\n",
       "      <td>3.700000</td>\n",
       "    </tr>\n",
       "    <tr>\n",
       "      <th>2064</th>\n",
       "      <td>희몽</td>\n",
       "      <td>10000.000000</td>\n",
       "      <td>10000.000000</td>\n",
       "      <td>5.000000</td>\n",
       "    </tr>\n",
       "    <tr>\n",
       "      <th>2065</th>\n",
       "      <td>희인</td>\n",
       "      <td>10000.000000</td>\n",
       "      <td>14071.443662</td>\n",
       "      <td>5.000000</td>\n",
       "    </tr>\n",
       "  </tbody>\n",
       "</table>\n",
       "<p>2066 rows × 4 columns</p>\n",
       "</div>"
      ],
      "text/plain": [
       "               판매자          서비스가격           판매금액        평점\n",
       "0             0to1    5000.000000    6987.500000  5.000000\n",
       "1            100ME   88452.655889   90524.018476  5.000000\n",
       "2     10xDeveloper   23742.857143   26557.257143  4.941714\n",
       "3         10년차웹개발자   21312.500000   25131.625000  4.846250\n",
       "4           123abc  150000.000000  168150.000000  0.000000\n",
       "...            ...            ...            ...       ...\n",
       "2061           효베르   11000.000000   14468.245943  5.000000\n",
       "2062       효율자동화쟁이   10000.000000   10000.000000  5.000000\n",
       "2063             흐   55000.000000   58866.666667  3.700000\n",
       "2064            희몽   10000.000000   10000.000000  5.000000\n",
       "2065            희인   10000.000000   14071.443662  5.000000\n",
       "\n",
       "[2066 rows x 4 columns]"
      ]
     },
     "execution_count": 9,
     "metadata": {},
     "output_type": "execute_result"
    }
   ],
   "source": [
    "pivot_df=log_df.pivot_table(index='판매자', values=['판매금액','서비스가격','평점'],aggfunc='mean').reset_index()\n",
    "pivot_df"
   ]
  },
  {
   "cell_type": "code",
   "execution_count": 10,
   "metadata": {},
   "outputs": [
    {
     "data": {
      "text/html": [
       "<div>\n",
       "<style scoped>\n",
       "    .dataframe tbody tr th:only-of-type {\n",
       "        vertical-align: middle;\n",
       "    }\n",
       "\n",
       "    .dataframe tbody tr th {\n",
       "        vertical-align: top;\n",
       "    }\n",
       "\n",
       "    .dataframe thead th {\n",
       "        text-align: right;\n",
       "    }\n",
       "</style>\n",
       "<table border=\"1\" class=\"dataframe\">\n",
       "  <thead>\n",
       "    <tr style=\"text-align: right;\">\n",
       "      <th></th>\n",
       "      <th>판매자</th>\n",
       "      <th>이용자수</th>\n",
       "    </tr>\n",
       "  </thead>\n",
       "  <tbody>\n",
       "    <tr>\n",
       "      <th>0</th>\n",
       "      <td>0to1</td>\n",
       "      <td>48.0</td>\n",
       "    </tr>\n",
       "    <tr>\n",
       "      <th>1</th>\n",
       "      <td>100ME</td>\n",
       "      <td>10407.0</td>\n",
       "    </tr>\n",
       "    <tr>\n",
       "      <th>2</th>\n",
       "      <td>10xDeveloper</td>\n",
       "      <td>1283.0</td>\n",
       "    </tr>\n",
       "    <tr>\n",
       "      <th>3</th>\n",
       "      <td>10년차웹개발자</td>\n",
       "      <td>4538.0</td>\n",
       "    </tr>\n",
       "    <tr>\n",
       "      <th>4</th>\n",
       "      <td>123abc</td>\n",
       "      <td>0.0</td>\n",
       "    </tr>\n",
       "    <tr>\n",
       "      <th>...</th>\n",
       "      <td>...</td>\n",
       "      <td>...</td>\n",
       "    </tr>\n",
       "    <tr>\n",
       "      <th>2061</th>\n",
       "      <td>효베르</td>\n",
       "      <td>267534.0</td>\n",
       "    </tr>\n",
       "    <tr>\n",
       "      <th>2062</th>\n",
       "      <td>효율자동화쟁이</td>\n",
       "      <td>3.0</td>\n",
       "    </tr>\n",
       "    <tr>\n",
       "      <th>2063</th>\n",
       "      <td>흐</td>\n",
       "      <td>3.0</td>\n",
       "    </tr>\n",
       "    <tr>\n",
       "      <th>2064</th>\n",
       "      <td>희몽</td>\n",
       "      <td>25.0</td>\n",
       "    </tr>\n",
       "    <tr>\n",
       "      <th>2065</th>\n",
       "      <td>희인</td>\n",
       "      <td>1704.0</td>\n",
       "    </tr>\n",
       "  </tbody>\n",
       "</table>\n",
       "<p>2066 rows × 2 columns</p>\n",
       "</div>"
      ],
      "text/plain": [
       "               판매자      이용자수\n",
       "0             0to1      48.0\n",
       "1            100ME   10407.0\n",
       "2     10xDeveloper    1283.0\n",
       "3         10년차웹개발자    4538.0\n",
       "4           123abc       0.0\n",
       "...            ...       ...\n",
       "2061           효베르  267534.0\n",
       "2062       효율자동화쟁이       3.0\n",
       "2063             흐       3.0\n",
       "2064            희몽      25.0\n",
       "2065            희인    1704.0\n",
       "\n",
       "[2066 rows x 2 columns]"
      ]
     },
     "execution_count": 10,
     "metadata": {},
     "output_type": "execute_result"
    }
   ],
   "source": [
    "pivot_df2=log_df.pivot_table(index='판매자', values=['이용자수'],aggfunc='sum').reset_index()\n",
    "pivot_df2"
   ]
  },
  {
   "cell_type": "code",
   "execution_count": 11,
   "metadata": {},
   "outputs": [],
   "source": [
    "merge_df=pd.merge(expert_df,pivot_df,on='판매자',how='right')"
   ]
  },
  {
   "cell_type": "code",
   "execution_count": 12,
   "metadata": {},
   "outputs": [],
   "source": [
    "merge_df=pd.merge(merge_df,pivot_df2,on='판매자',how='right')"
   ]
  },
  {
   "cell_type": "code",
   "execution_count": 13,
   "metadata": {},
   "outputs": [
    {
     "data": {
      "text/html": [
       "<div>\n",
       "<style scoped>\n",
       "    .dataframe tbody tr th:only-of-type {\n",
       "        vertical-align: middle;\n",
       "    }\n",
       "\n",
       "    .dataframe tbody tr th {\n",
       "        vertical-align: top;\n",
       "    }\n",
       "\n",
       "    .dataframe thead th {\n",
       "        text-align: right;\n",
       "    }\n",
       "</style>\n",
       "<table border=\"1\" class=\"dataframe\">\n",
       "  <thead>\n",
       "    <tr style=\"text-align: right;\">\n",
       "      <th></th>\n",
       "      <th>판매자ID</th>\n",
       "      <th>판매자</th>\n",
       "      <th>판매 서비스 수</th>\n",
       "      <th>총 판매 금액</th>\n",
       "      <th>프리미엄 서비스 가입여부</th>\n",
       "      <th>신속 알람 서비스 사용여부</th>\n",
       "      <th>서비스가격</th>\n",
       "      <th>판매금액</th>\n",
       "      <th>평점</th>\n",
       "      <th>이용자수</th>\n",
       "    </tr>\n",
       "  </thead>\n",
       "  <tbody>\n",
       "    <tr>\n",
       "      <th>0</th>\n",
       "      <td>V2_1914</td>\n",
       "      <td>0to1</td>\n",
       "      <td>16</td>\n",
       "      <td>143600</td>\n",
       "      <td>미가입</td>\n",
       "      <td>미사용</td>\n",
       "      <td>5000.000000</td>\n",
       "      <td>6987.500000</td>\n",
       "      <td>5.000000</td>\n",
       "      <td>48.0</td>\n",
       "    </tr>\n",
       "    <tr>\n",
       "      <th>1</th>\n",
       "      <td>V2_130</td>\n",
       "      <td>100ME</td>\n",
       "      <td>433</td>\n",
       "      <td>40852510</td>\n",
       "      <td>가입</td>\n",
       "      <td>사용</td>\n",
       "      <td>88452.655889</td>\n",
       "      <td>90524.018476</td>\n",
       "      <td>5.000000</td>\n",
       "      <td>10407.0</td>\n",
       "    </tr>\n",
       "    <tr>\n",
       "      <th>2</th>\n",
       "      <td>V2_958</td>\n",
       "      <td>10xDeveloper</td>\n",
       "      <td>175</td>\n",
       "      <td>5163990</td>\n",
       "      <td>미가입</td>\n",
       "      <td>미사용</td>\n",
       "      <td>23742.857143</td>\n",
       "      <td>26557.257143</td>\n",
       "      <td>4.941714</td>\n",
       "      <td>1283.0</td>\n",
       "    </tr>\n",
       "    <tr>\n",
       "      <th>3</th>\n",
       "      <td>V2_999</td>\n",
       "      <td>10년차웹개발자</td>\n",
       "      <td>160</td>\n",
       "      <td>4662120</td>\n",
       "      <td>미가입</td>\n",
       "      <td>사용</td>\n",
       "      <td>21312.500000</td>\n",
       "      <td>25131.625000</td>\n",
       "      <td>4.846250</td>\n",
       "      <td>4538.0</td>\n",
       "    </tr>\n",
       "    <tr>\n",
       "      <th>4</th>\n",
       "      <td>V2_1762</td>\n",
       "      <td>123abc</td>\n",
       "      <td>2</td>\n",
       "      <td>372600</td>\n",
       "      <td>미가입</td>\n",
       "      <td>미사용</td>\n",
       "      <td>150000.000000</td>\n",
       "      <td>168150.000000</td>\n",
       "      <td>0.000000</td>\n",
       "      <td>0.0</td>\n",
       "    </tr>\n",
       "    <tr>\n",
       "      <th>...</th>\n",
       "      <td>...</td>\n",
       "      <td>...</td>\n",
       "      <td>...</td>\n",
       "      <td>...</td>\n",
       "      <td>...</td>\n",
       "      <td>...</td>\n",
       "      <td>...</td>\n",
       "      <td>...</td>\n",
       "      <td>...</td>\n",
       "      <td>...</td>\n",
       "    </tr>\n",
       "    <tr>\n",
       "      <th>2061</th>\n",
       "      <td>V2_254</td>\n",
       "      <td>효베르</td>\n",
       "      <td>1602</td>\n",
       "      <td>29250810</td>\n",
       "      <td>미가입</td>\n",
       "      <td>사용</td>\n",
       "      <td>11000.000000</td>\n",
       "      <td>14468.245943</td>\n",
       "      <td>5.000000</td>\n",
       "      <td>267534.0</td>\n",
       "    </tr>\n",
       "    <tr>\n",
       "      <th>2062</th>\n",
       "      <td>V2_2029</td>\n",
       "      <td>효율자동화쟁이</td>\n",
       "      <td>3</td>\n",
       "      <td>30000</td>\n",
       "      <td>미가입</td>\n",
       "      <td>미사용</td>\n",
       "      <td>10000.000000</td>\n",
       "      <td>10000.000000</td>\n",
       "      <td>5.000000</td>\n",
       "      <td>3.0</td>\n",
       "    </tr>\n",
       "    <tr>\n",
       "      <th>2063</th>\n",
       "      <td>V2_1880</td>\n",
       "      <td>흐</td>\n",
       "      <td>3</td>\n",
       "      <td>188200</td>\n",
       "      <td>미가입</td>\n",
       "      <td>미사용</td>\n",
       "      <td>55000.000000</td>\n",
       "      <td>58866.666667</td>\n",
       "      <td>3.700000</td>\n",
       "      <td>3.0</td>\n",
       "    </tr>\n",
       "    <tr>\n",
       "      <th>2064</th>\n",
       "      <td>V2_2009</td>\n",
       "      <td>희몽</td>\n",
       "      <td>5</td>\n",
       "      <td>50000</td>\n",
       "      <td>미가입</td>\n",
       "      <td>미사용</td>\n",
       "      <td>10000.000000</td>\n",
       "      <td>10000.000000</td>\n",
       "      <td>5.000000</td>\n",
       "      <td>25.0</td>\n",
       "    </tr>\n",
       "    <tr>\n",
       "      <th>2065</th>\n",
       "      <td>V2_956</td>\n",
       "      <td>희인</td>\n",
       "      <td>284</td>\n",
       "      <td>5174530</td>\n",
       "      <td>미가입</td>\n",
       "      <td>미사용</td>\n",
       "      <td>10000.000000</td>\n",
       "      <td>14071.443662</td>\n",
       "      <td>5.000000</td>\n",
       "      <td>1704.0</td>\n",
       "    </tr>\n",
       "  </tbody>\n",
       "</table>\n",
       "<p>2066 rows × 10 columns</p>\n",
       "</div>"
      ],
      "text/plain": [
       "        판매자ID           판매자  판매 서비스 수   총 판매 금액 프리미엄 서비스 가입여부 신속 알람 서비스 사용여부   \n",
       "0     V2_1914          0to1        16    143600           미가입            미사용  \\\n",
       "1      V2_130         100ME       433  40852510            가입             사용   \n",
       "2      V2_958  10xDeveloper       175   5163990           미가입            미사용   \n",
       "3      V2_999      10년차웹개발자       160   4662120           미가입             사용   \n",
       "4     V2_1762        123abc         2    372600           미가입            미사용   \n",
       "...       ...           ...       ...       ...           ...            ...   \n",
       "2061   V2_254           효베르      1602  29250810           미가입             사용   \n",
       "2062  V2_2029       효율자동화쟁이         3     30000           미가입            미사용   \n",
       "2063  V2_1880             흐         3    188200           미가입            미사용   \n",
       "2064  V2_2009            희몽         5     50000           미가입            미사용   \n",
       "2065   V2_956            희인       284   5174530           미가입            미사용   \n",
       "\n",
       "              서비스가격           판매금액        평점      이용자수  \n",
       "0       5000.000000    6987.500000  5.000000      48.0  \n",
       "1      88452.655889   90524.018476  5.000000   10407.0  \n",
       "2      23742.857143   26557.257143  4.941714    1283.0  \n",
       "3      21312.500000   25131.625000  4.846250    4538.0  \n",
       "4     150000.000000  168150.000000  0.000000       0.0  \n",
       "...             ...            ...       ...       ...  \n",
       "2061   11000.000000   14468.245943  5.000000  267534.0  \n",
       "2062   10000.000000   10000.000000  5.000000       3.0  \n",
       "2063   55000.000000   58866.666667  3.700000       3.0  \n",
       "2064   10000.000000   10000.000000  5.000000      25.0  \n",
       "2065   10000.000000   14071.443662  5.000000    1704.0  \n",
       "\n",
       "[2066 rows x 10 columns]"
      ]
     },
     "execution_count": 13,
     "metadata": {},
     "output_type": "execute_result"
    }
   ],
   "source": [
    "merge_df"
   ]
  },
  {
   "cell_type": "code",
   "execution_count": 14,
   "metadata": {},
   "outputs": [],
   "source": [
    "merge_df.columns=['판매자ID', '판매자', '판매 서비스 수', '총 판매 금액', '프리미엄 서비스 가입여부',\n",
    "       '신속 알람 서비스 사용여부', '평균서비스가격', '평균판매금액', '평점', '총이용자수']"
   ]
  },
  {
   "cell_type": "code",
   "execution_count": 15,
   "metadata": {},
   "outputs": [
    {
     "data": {
      "text/html": [
       "<div>\n",
       "<style scoped>\n",
       "    .dataframe tbody tr th:only-of-type {\n",
       "        vertical-align: middle;\n",
       "    }\n",
       "\n",
       "    .dataframe tbody tr th {\n",
       "        vertical-align: top;\n",
       "    }\n",
       "\n",
       "    .dataframe thead th {\n",
       "        text-align: right;\n",
       "    }\n",
       "</style>\n",
       "<table border=\"1\" class=\"dataframe\">\n",
       "  <thead>\n",
       "    <tr style=\"text-align: right;\">\n",
       "      <th></th>\n",
       "      <th>판매자ID</th>\n",
       "      <th>판매자</th>\n",
       "      <th>판매 서비스 수</th>\n",
       "      <th>총 판매 금액</th>\n",
       "      <th>프리미엄 서비스 가입여부</th>\n",
       "      <th>신속 알람 서비스 사용여부</th>\n",
       "      <th>평균서비스가격</th>\n",
       "      <th>평균판매금액</th>\n",
       "      <th>평점</th>\n",
       "      <th>총이용자수</th>\n",
       "    </tr>\n",
       "  </thead>\n",
       "  <tbody>\n",
       "    <tr>\n",
       "      <th>0</th>\n",
       "      <td>V2_1914</td>\n",
       "      <td>0to1</td>\n",
       "      <td>16</td>\n",
       "      <td>143600</td>\n",
       "      <td>미가입</td>\n",
       "      <td>미사용</td>\n",
       "      <td>5000.000000</td>\n",
       "      <td>6987.500000</td>\n",
       "      <td>5.000000</td>\n",
       "      <td>48.0</td>\n",
       "    </tr>\n",
       "    <tr>\n",
       "      <th>1</th>\n",
       "      <td>V2_130</td>\n",
       "      <td>100ME</td>\n",
       "      <td>433</td>\n",
       "      <td>40852510</td>\n",
       "      <td>가입</td>\n",
       "      <td>사용</td>\n",
       "      <td>88452.655889</td>\n",
       "      <td>90524.018476</td>\n",
       "      <td>5.000000</td>\n",
       "      <td>10407.0</td>\n",
       "    </tr>\n",
       "    <tr>\n",
       "      <th>2</th>\n",
       "      <td>V2_958</td>\n",
       "      <td>10xDeveloper</td>\n",
       "      <td>175</td>\n",
       "      <td>5163990</td>\n",
       "      <td>미가입</td>\n",
       "      <td>미사용</td>\n",
       "      <td>23742.857143</td>\n",
       "      <td>26557.257143</td>\n",
       "      <td>4.941714</td>\n",
       "      <td>1283.0</td>\n",
       "    </tr>\n",
       "    <tr>\n",
       "      <th>3</th>\n",
       "      <td>V2_999</td>\n",
       "      <td>10년차웹개발자</td>\n",
       "      <td>160</td>\n",
       "      <td>4662120</td>\n",
       "      <td>미가입</td>\n",
       "      <td>사용</td>\n",
       "      <td>21312.500000</td>\n",
       "      <td>25131.625000</td>\n",
       "      <td>4.846250</td>\n",
       "      <td>4538.0</td>\n",
       "    </tr>\n",
       "    <tr>\n",
       "      <th>4</th>\n",
       "      <td>V2_1762</td>\n",
       "      <td>123abc</td>\n",
       "      <td>2</td>\n",
       "      <td>372600</td>\n",
       "      <td>미가입</td>\n",
       "      <td>미사용</td>\n",
       "      <td>150000.000000</td>\n",
       "      <td>168150.000000</td>\n",
       "      <td>0.000000</td>\n",
       "      <td>0.0</td>\n",
       "    </tr>\n",
       "  </tbody>\n",
       "</table>\n",
       "</div>"
      ],
      "text/plain": [
       "     판매자ID           판매자  판매 서비스 수   총 판매 금액 프리미엄 서비스 가입여부 신속 알람 서비스 사용여부   \n",
       "0  V2_1914          0to1        16    143600           미가입            미사용  \\\n",
       "1   V2_130         100ME       433  40852510            가입             사용   \n",
       "2   V2_958  10xDeveloper       175   5163990           미가입            미사용   \n",
       "3   V2_999      10년차웹개발자       160   4662120           미가입             사용   \n",
       "4  V2_1762        123abc         2    372600           미가입            미사용   \n",
       "\n",
       "         평균서비스가격         평균판매금액        평점    총이용자수  \n",
       "0    5000.000000    6987.500000  5.000000     48.0  \n",
       "1   88452.655889   90524.018476  5.000000  10407.0  \n",
       "2   23742.857143   26557.257143  4.941714   1283.0  \n",
       "3   21312.500000   25131.625000  4.846250   4538.0  \n",
       "4  150000.000000  168150.000000  0.000000      0.0  "
      ]
     },
     "execution_count": 15,
     "metadata": {},
     "output_type": "execute_result"
    }
   ],
   "source": [
    "merge_df.head()"
   ]
  },
  {
   "cell_type": "code",
   "execution_count": 16,
   "metadata": {},
   "outputs": [
    {
     "data": {
      "text/plain": [
       "판매자ID             0\n",
       "판매자               0\n",
       "판매 서비스 수          0\n",
       "총 판매 금액           0\n",
       "프리미엄 서비스 가입여부     0\n",
       "신속 알람 서비스 사용여부    0\n",
       "평균서비스가격           0\n",
       "평균판매금액            0\n",
       "평점                0\n",
       "총이용자수             0\n",
       "dtype: int64"
      ]
     },
     "execution_count": 16,
     "metadata": {},
     "output_type": "execute_result"
    }
   ],
   "source": [
    "merge_df.isna().sum()"
   ]
  },
  {
   "cell_type": "code",
   "execution_count": 17,
   "metadata": {},
   "outputs": [
    {
     "data": {
      "text/plain": [
       "Index(['판매 서비스 수', '총 판매 금액', '평균서비스가격', '평균판매금액', '평점', '총이용자수'], dtype='object')"
      ]
     },
     "execution_count": 17,
     "metadata": {},
     "output_type": "execute_result"
    }
   ],
   "source": [
    "num_cols=merge_df.select_dtypes(exclude='object').columns\n",
    "num_cols"
   ]
  },
  {
   "cell_type": "code",
   "execution_count": 18,
   "metadata": {},
   "outputs": [
    {
     "data": {
      "text/html": [
       "<div>\n",
       "<style scoped>\n",
       "    .dataframe tbody tr th:only-of-type {\n",
       "        vertical-align: middle;\n",
       "    }\n",
       "\n",
       "    .dataframe tbody tr th {\n",
       "        vertical-align: top;\n",
       "    }\n",
       "\n",
       "    .dataframe thead th {\n",
       "        text-align: right;\n",
       "    }\n",
       "</style>\n",
       "<table border=\"1\" class=\"dataframe\">\n",
       "  <thead>\n",
       "    <tr style=\"text-align: right;\">\n",
       "      <th></th>\n",
       "      <th>판매 서비스 수</th>\n",
       "      <th>총 판매 금액</th>\n",
       "      <th>평균서비스가격</th>\n",
       "      <th>평균판매금액</th>\n",
       "      <th>평점</th>\n",
       "      <th>총이용자수</th>\n",
       "    </tr>\n",
       "  </thead>\n",
       "  <tbody>\n",
       "    <tr>\n",
       "      <th>판매 서비스 수</th>\n",
       "      <td>1.000000</td>\n",
       "      <td>0.442624</td>\n",
       "      <td>-0.101024</td>\n",
       "      <td>-0.099803</td>\n",
       "      <td>0.190009</td>\n",
       "      <td>0.632590</td>\n",
       "    </tr>\n",
       "    <tr>\n",
       "      <th>총 판매 금액</th>\n",
       "      <td>0.442624</td>\n",
       "      <td>1.000000</td>\n",
       "      <td>0.272730</td>\n",
       "      <td>0.272354</td>\n",
       "      <td>0.062577</td>\n",
       "      <td>0.224785</td>\n",
       "    </tr>\n",
       "    <tr>\n",
       "      <th>평균서비스가격</th>\n",
       "      <td>-0.101024</td>\n",
       "      <td>0.272730</td>\n",
       "      <td>1.000000</td>\n",
       "      <td>0.999415</td>\n",
       "      <td>-0.196890</td>\n",
       "      <td>-0.048897</td>\n",
       "    </tr>\n",
       "    <tr>\n",
       "      <th>평균판매금액</th>\n",
       "      <td>-0.099803</td>\n",
       "      <td>0.272354</td>\n",
       "      <td>0.999415</td>\n",
       "      <td>1.000000</td>\n",
       "      <td>-0.194667</td>\n",
       "      <td>-0.048274</td>\n",
       "    </tr>\n",
       "    <tr>\n",
       "      <th>평점</th>\n",
       "      <td>0.190009</td>\n",
       "      <td>0.062577</td>\n",
       "      <td>-0.196890</td>\n",
       "      <td>-0.194667</td>\n",
       "      <td>1.000000</td>\n",
       "      <td>0.098148</td>\n",
       "    </tr>\n",
       "    <tr>\n",
       "      <th>총이용자수</th>\n",
       "      <td>0.632590</td>\n",
       "      <td>0.224785</td>\n",
       "      <td>-0.048897</td>\n",
       "      <td>-0.048274</td>\n",
       "      <td>0.098148</td>\n",
       "      <td>1.000000</td>\n",
       "    </tr>\n",
       "  </tbody>\n",
       "</table>\n",
       "</div>"
      ],
      "text/plain": [
       "          판매 서비스 수   총 판매 금액   평균서비스가격    평균판매금액        평점     총이용자수\n",
       "판매 서비스 수  1.000000  0.442624 -0.101024 -0.099803  0.190009  0.632590\n",
       "총 판매 금액   0.442624  1.000000  0.272730  0.272354  0.062577  0.224785\n",
       "평균서비스가격  -0.101024  0.272730  1.000000  0.999415 -0.196890 -0.048897\n",
       "평균판매금액   -0.099803  0.272354  0.999415  1.000000 -0.194667 -0.048274\n",
       "평점        0.190009  0.062577 -0.196890 -0.194667  1.000000  0.098148\n",
       "총이용자수     0.632590  0.224785 -0.048897 -0.048274  0.098148  1.000000"
      ]
     },
     "execution_count": 18,
     "metadata": {},
     "output_type": "execute_result"
    }
   ],
   "source": [
    "# 상관 관계\n",
    "cor=merge_df[num_cols].corr()\n",
    "cor"
   ]
  },
  {
   "cell_type": "code",
   "execution_count": 19,
   "metadata": {},
   "outputs": [
    {
     "name": "stderr",
     "output_type": "stream",
     "text": [
      "\n",
      "[notice] A new release of pip is available: 24.0 -> 24.2\n",
      "[notice] To update, run: C:\\Users\\HOME\\AppData\\Local\\Microsoft\\WindowsApps\\PythonSoftwareFoundation.Python.3.11_qbz5n2kfra8p0\\python.exe -m pip install --upgrade pip\n"
     ]
    },
    {
     "name": "stdout",
     "output_type": "stream",
     "text": [
      "Requirement already satisfied: koreanize_matplotlib in c:\\users\\home\\appdata\\local\\packages\\pythonsoftwarefoundation.python.3.11_qbz5n2kfra8p0\\localcache\\local-packages\\python311\\site-packages (0.1.1)\n",
      "Requirement already satisfied: matplotlib in c:\\users\\home\\appdata\\local\\packages\\pythonsoftwarefoundation.python.3.11_qbz5n2kfra8p0\\localcache\\local-packages\\python311\\site-packages (from koreanize_matplotlib) (3.7.1)\n",
      "Requirement already satisfied: contourpy>=1.0.1 in c:\\users\\home\\appdata\\local\\packages\\pythonsoftwarefoundation.python.3.11_qbz5n2kfra8p0\\localcache\\local-packages\\python311\\site-packages (from matplotlib->koreanize_matplotlib) (1.0.7)\n",
      "Requirement already satisfied: cycler>=0.10 in c:\\users\\home\\appdata\\local\\packages\\pythonsoftwarefoundation.python.3.11_qbz5n2kfra8p0\\localcache\\local-packages\\python311\\site-packages (from matplotlib->koreanize_matplotlib) (0.11.0)\n",
      "Requirement already satisfied: fonttools>=4.22.0 in c:\\users\\home\\appdata\\local\\packages\\pythonsoftwarefoundation.python.3.11_qbz5n2kfra8p0\\localcache\\local-packages\\python311\\site-packages (from matplotlib->koreanize_matplotlib) (4.39.3)\n",
      "Requirement already satisfied: kiwisolver>=1.0.1 in c:\\users\\home\\appdata\\local\\packages\\pythonsoftwarefoundation.python.3.11_qbz5n2kfra8p0\\localcache\\local-packages\\python311\\site-packages (from matplotlib->koreanize_matplotlib) (1.4.4)\n",
      "Requirement already satisfied: numpy>=1.20 in c:\\users\\home\\appdata\\local\\packages\\pythonsoftwarefoundation.python.3.11_qbz5n2kfra8p0\\localcache\\local-packages\\python311\\site-packages (from matplotlib->koreanize_matplotlib) (1.23.5)\n",
      "Requirement already satisfied: packaging>=20.0 in c:\\users\\home\\appdata\\local\\packages\\pythonsoftwarefoundation.python.3.11_qbz5n2kfra8p0\\localcache\\local-packages\\python311\\site-packages (from matplotlib->koreanize_matplotlib) (24.1)\n",
      "Requirement already satisfied: pillow>=6.2.0 in c:\\users\\home\\appdata\\local\\packages\\pythonsoftwarefoundation.python.3.11_qbz5n2kfra8p0\\localcache\\local-packages\\python311\\site-packages (from matplotlib->koreanize_matplotlib) (9.5.0)\n",
      "Requirement already satisfied: pyparsing>=2.3.1 in c:\\users\\home\\appdata\\local\\packages\\pythonsoftwarefoundation.python.3.11_qbz5n2kfra8p0\\localcache\\local-packages\\python311\\site-packages (from matplotlib->koreanize_matplotlib) (3.0.9)\n",
      "Requirement already satisfied: python-dateutil>=2.7 in c:\\users\\home\\appdata\\local\\packages\\pythonsoftwarefoundation.python.3.11_qbz5n2kfra8p0\\localcache\\local-packages\\python311\\site-packages (from matplotlib->koreanize_matplotlib) (2.9.0.post0)\n",
      "Requirement already satisfied: six>=1.5 in c:\\users\\home\\appdata\\local\\packages\\pythonsoftwarefoundation.python.3.11_qbz5n2kfra8p0\\localcache\\local-packages\\python311\\site-packages (from python-dateutil>=2.7->matplotlib->koreanize_matplotlib) (1.16.0)\n"
     ]
    }
   ],
   "source": [
    "! pip install koreanize_matplotlib\n",
    "import koreanize_matplotlib"
   ]
  },
  {
   "cell_type": "code",
   "execution_count": 20,
   "metadata": {},
   "outputs": [
    {
     "data": {
      "text/plain": [
       "<Axes: >"
      ]
     },
     "execution_count": 20,
     "metadata": {},
     "output_type": "execute_result"
    },
    {
     "data": {
      "image/png": "[encoded data removed]",
      "text/plain": [
       "<Figure size 640x480 with 2 Axes>"
      ]
     },
     "metadata": {},
     "output_type": "display_data"
    }
   ],
   "source": [
    "sns.heatmap(cor,annot=True)"
   ]
  },
  {
   "cell_type": "code",
   "execution_count": 21,
   "metadata": {},
   "outputs": [
    {
     "data": {
      "text/html": [
       "<div>\n",
       "<style scoped>\n",
       "    .dataframe tbody tr th:only-of-type {\n",
       "        vertical-align: middle;\n",
       "    }\n",
       "\n",
       "    .dataframe tbody tr th {\n",
       "        vertical-align: top;\n",
       "    }\n",
       "\n",
       "    .dataframe thead th {\n",
       "        text-align: right;\n",
       "    }\n",
       "</style>\n",
       "<table border=\"1\" class=\"dataframe\">\n",
       "  <thead>\n",
       "    <tr style=\"text-align: right;\">\n",
       "      <th></th>\n",
       "      <th>판매자ID</th>\n",
       "      <th>판매자</th>\n",
       "      <th>판매 서비스 수</th>\n",
       "      <th>총 판매 금액</th>\n",
       "      <th>프리미엄 서비스 가입여부</th>\n",
       "      <th>신속 알람 서비스 사용여부</th>\n",
       "      <th>평균서비스가격</th>\n",
       "      <th>평균판매금액</th>\n",
       "      <th>평점</th>\n",
       "      <th>총이용자수</th>\n",
       "    </tr>\n",
       "  </thead>\n",
       "  <tbody>\n",
       "    <tr>\n",
       "      <th>0</th>\n",
       "      <td>V2_1914</td>\n",
       "      <td>0to1</td>\n",
       "      <td>16</td>\n",
       "      <td>143600</td>\n",
       "      <td>미가입</td>\n",
       "      <td>미사용</td>\n",
       "      <td>5000.000000</td>\n",
       "      <td>6987.500000</td>\n",
       "      <td>5.000000</td>\n",
       "      <td>48.0</td>\n",
       "    </tr>\n",
       "    <tr>\n",
       "      <th>1</th>\n",
       "      <td>V2_130</td>\n",
       "      <td>100ME</td>\n",
       "      <td>433</td>\n",
       "      <td>40852510</td>\n",
       "      <td>가입</td>\n",
       "      <td>사용</td>\n",
       "      <td>88452.655889</td>\n",
       "      <td>90524.018476</td>\n",
       "      <td>5.000000</td>\n",
       "      <td>10407.0</td>\n",
       "    </tr>\n",
       "    <tr>\n",
       "      <th>2</th>\n",
       "      <td>V2_958</td>\n",
       "      <td>10xDeveloper</td>\n",
       "      <td>175</td>\n",
       "      <td>5163990</td>\n",
       "      <td>미가입</td>\n",
       "      <td>미사용</td>\n",
       "      <td>23742.857143</td>\n",
       "      <td>26557.257143</td>\n",
       "      <td>4.941714</td>\n",
       "      <td>1283.0</td>\n",
       "    </tr>\n",
       "    <tr>\n",
       "      <th>3</th>\n",
       "      <td>V2_999</td>\n",
       "      <td>10년차웹개발자</td>\n",
       "      <td>160</td>\n",
       "      <td>4662120</td>\n",
       "      <td>미가입</td>\n",
       "      <td>사용</td>\n",
       "      <td>21312.500000</td>\n",
       "      <td>25131.625000</td>\n",
       "      <td>4.846250</td>\n",
       "      <td>4538.0</td>\n",
       "    </tr>\n",
       "    <tr>\n",
       "      <th>4</th>\n",
       "      <td>V2_1762</td>\n",
       "      <td>123abc</td>\n",
       "      <td>2</td>\n",
       "      <td>372600</td>\n",
       "      <td>미가입</td>\n",
       "      <td>미사용</td>\n",
       "      <td>150000.000000</td>\n",
       "      <td>168150.000000</td>\n",
       "      <td>0.000000</td>\n",
       "      <td>0.0</td>\n",
       "    </tr>\n",
       "  </tbody>\n",
       "</table>\n",
       "</div>"
      ],
      "text/plain": [
       "     판매자ID           판매자  판매 서비스 수   총 판매 금액 프리미엄 서비스 가입여부 신속 알람 서비스 사용여부   \n",
       "0  V2_1914          0to1        16    143600           미가입            미사용  \\\n",
       "1   V2_130         100ME       433  40852510            가입             사용   \n",
       "2   V2_958  10xDeveloper       175   5163990           미가입            미사용   \n",
       "3   V2_999      10년차웹개발자       160   4662120           미가입             사용   \n",
       "4  V2_1762        123abc         2    372600           미가입            미사용   \n",
       "\n",
       "         평균서비스가격         평균판매금액        평점    총이용자수  \n",
       "0    5000.000000    6987.500000  5.000000     48.0  \n",
       "1   88452.655889   90524.018476  5.000000  10407.0  \n",
       "2   23742.857143   26557.257143  4.941714   1283.0  \n",
       "3   21312.500000   25131.625000  4.846250   4538.0  \n",
       "4  150000.000000  168150.000000  0.000000      0.0  "
      ]
     },
     "execution_count": 21,
     "metadata": {},
     "output_type": "execute_result"
    }
   ],
   "source": [
    "merge_df.head()"
   ]
  },
  {
   "cell_type": "code",
   "execution_count": 24,
   "metadata": {},
   "outputs": [
    {
     "data": {
      "text/html": [
       "<div>\n",
       "<style scoped>\n",
       "    .dataframe tbody tr th:only-of-type {\n",
       "        vertical-align: middle;\n",
       "    }\n",
       "\n",
       "    .dataframe tbody tr th {\n",
       "        vertical-align: top;\n",
       "    }\n",
       "\n",
       "    .dataframe thead th {\n",
       "        text-align: right;\n",
       "    }\n",
       "</style>\n",
       "<table border=\"1\" class=\"dataframe\">\n",
       "  <thead>\n",
       "    <tr style=\"text-align: right;\">\n",
       "      <th></th>\n",
       "      <th>판매자ID</th>\n",
       "      <th>판매자</th>\n",
       "      <th>판매 서비스 수</th>\n",
       "      <th>총 판매 금액</th>\n",
       "      <th>프리미엄 서비스 가입여부</th>\n",
       "      <th>신속 알람 서비스 사용여부</th>\n",
       "      <th>평균서비스가격</th>\n",
       "      <th>평균판매금액</th>\n",
       "      <th>평점</th>\n",
       "      <th>총이용자수</th>\n",
       "    </tr>\n",
       "  </thead>\n",
       "  <tbody>\n",
       "    <tr>\n",
       "      <th>count</th>\n",
       "      <td>2066</td>\n",
       "      <td>2066</td>\n",
       "      <td>2066.00000</td>\n",
       "      <td>2.066000e+03</td>\n",
       "      <td>2066</td>\n",
       "      <td>2066</td>\n",
       "      <td>2.066000e+03</td>\n",
       "      <td>2.066000e+03</td>\n",
       "      <td>2066.000000</td>\n",
       "      <td>2066.000000</td>\n",
       "    </tr>\n",
       "    <tr>\n",
       "      <th>unique</th>\n",
       "      <td>2066</td>\n",
       "      <td>2066</td>\n",
       "      <td>NaN</td>\n",
       "      <td>NaN</td>\n",
       "      <td>2</td>\n",
       "      <td>2</td>\n",
       "      <td>NaN</td>\n",
       "      <td>NaN</td>\n",
       "      <td>NaN</td>\n",
       "      <td>NaN</td>\n",
       "    </tr>\n",
       "    <tr>\n",
       "      <th>top</th>\n",
       "      <td>V2_1914</td>\n",
       "      <td>0to1</td>\n",
       "      <td>NaN</td>\n",
       "      <td>NaN</td>\n",
       "      <td>미가입</td>\n",
       "      <td>미사용</td>\n",
       "      <td>NaN</td>\n",
       "      <td>NaN</td>\n",
       "      <td>NaN</td>\n",
       "      <td>NaN</td>\n",
       "    </tr>\n",
       "    <tr>\n",
       "      <th>freq</th>\n",
       "      <td>1</td>\n",
       "      <td>1</td>\n",
       "      <td>NaN</td>\n",
       "      <td>NaN</td>\n",
       "      <td>1774</td>\n",
       "      <td>1687</td>\n",
       "      <td>NaN</td>\n",
       "      <td>NaN</td>\n",
       "      <td>NaN</td>\n",
       "      <td>NaN</td>\n",
       "    </tr>\n",
       "    <tr>\n",
       "      <th>mean</th>\n",
       "      <td>NaN</td>\n",
       "      <td>NaN</td>\n",
       "      <td>166.63940</td>\n",
       "      <td>1.116331e+07</td>\n",
       "      <td>NaN</td>\n",
       "      <td>NaN</td>\n",
       "      <td>3.494762e+05</td>\n",
       "      <td>3.480845e+05</td>\n",
       "      <td>4.130945</td>\n",
       "      <td>9131.623427</td>\n",
       "    </tr>\n",
       "    <tr>\n",
       "      <th>std</th>\n",
       "      <td>NaN</td>\n",
       "      <td>NaN</td>\n",
       "      <td>342.30936</td>\n",
       "      <td>1.618498e+07</td>\n",
       "      <td>NaN</td>\n",
       "      <td>NaN</td>\n",
       "      <td>1.393708e+06</td>\n",
       "      <td>1.391270e+06</td>\n",
       "      <td>1.797469</td>\n",
       "      <td>43614.238892</td>\n",
       "    </tr>\n",
       "    <tr>\n",
       "      <th>min</th>\n",
       "      <td>NaN</td>\n",
       "      <td>NaN</td>\n",
       "      <td>1.00000</td>\n",
       "      <td>5.000000e+03</td>\n",
       "      <td>NaN</td>\n",
       "      <td>NaN</td>\n",
       "      <td>5.000000e+03</td>\n",
       "      <td>2.500000e+03</td>\n",
       "      <td>0.000000</td>\n",
       "      <td>0.000000</td>\n",
       "    </tr>\n",
       "    <tr>\n",
       "      <th>25%</th>\n",
       "      <td>NaN</td>\n",
       "      <td>NaN</td>\n",
       "      <td>9.00000</td>\n",
       "      <td>9.618500e+05</td>\n",
       "      <td>NaN</td>\n",
       "      <td>NaN</td>\n",
       "      <td>1.900000e+04</td>\n",
       "      <td>2.236268e+04</td>\n",
       "      <td>4.800000</td>\n",
       "      <td>8.000000</td>\n",
       "    </tr>\n",
       "    <tr>\n",
       "      <th>50%</th>\n",
       "      <td>NaN</td>\n",
       "      <td>NaN</td>\n",
       "      <td>36.00000</td>\n",
       "      <td>4.139370e+06</td>\n",
       "      <td>NaN</td>\n",
       "      <td>NaN</td>\n",
       "      <td>5.500000e+04</td>\n",
       "      <td>6.006310e+04</td>\n",
       "      <td>5.000000</td>\n",
       "      <td>104.000000</td>\n",
       "    </tr>\n",
       "    <tr>\n",
       "      <th>75%</th>\n",
       "      <td>NaN</td>\n",
       "      <td>NaN</td>\n",
       "      <td>158.75000</td>\n",
       "      <td>1.508420e+07</td>\n",
       "      <td>NaN</td>\n",
       "      <td>NaN</td>\n",
       "      <td>2.770735e+05</td>\n",
       "      <td>2.631000e+05</td>\n",
       "      <td>5.000000</td>\n",
       "      <td>1656.750000</td>\n",
       "    </tr>\n",
       "    <tr>\n",
       "      <th>max</th>\n",
       "      <td>NaN</td>\n",
       "      <td>NaN</td>\n",
       "      <td>4180.00000</td>\n",
       "      <td>1.479274e+08</td>\n",
       "      <td>NaN</td>\n",
       "      <td>NaN</td>\n",
       "      <td>4.400000e+07</td>\n",
       "      <td>4.400000e+07</td>\n",
       "      <td>5.000000</td>\n",
       "      <td>925221.000000</td>\n",
       "    </tr>\n",
       "  </tbody>\n",
       "</table>\n",
       "</div>"
      ],
      "text/plain": [
       "          판매자ID   판매자    판매 서비스 수       총 판매 금액 프리미엄 서비스 가입여부 신속 알람 서비스 사용여부   \n",
       "count      2066  2066  2066.00000  2.066000e+03          2066           2066  \\\n",
       "unique     2066  2066         NaN           NaN             2              2   \n",
       "top     V2_1914  0to1         NaN           NaN           미가입            미사용   \n",
       "freq          1     1         NaN           NaN          1774           1687   \n",
       "mean        NaN   NaN   166.63940  1.116331e+07           NaN            NaN   \n",
       "std         NaN   NaN   342.30936  1.618498e+07           NaN            NaN   \n",
       "min         NaN   NaN     1.00000  5.000000e+03           NaN            NaN   \n",
       "25%         NaN   NaN     9.00000  9.618500e+05           NaN            NaN   \n",
       "50%         NaN   NaN    36.00000  4.139370e+06           NaN            NaN   \n",
       "75%         NaN   NaN   158.75000  1.508420e+07           NaN            NaN   \n",
       "max         NaN   NaN  4180.00000  1.479274e+08           NaN            NaN   \n",
       "\n",
       "             평균서비스가격        평균판매금액           평점          총이용자수  \n",
       "count   2.066000e+03  2.066000e+03  2066.000000    2066.000000  \n",
       "unique           NaN           NaN          NaN            NaN  \n",
       "top              NaN           NaN          NaN            NaN  \n",
       "freq             NaN           NaN          NaN            NaN  \n",
       "mean    3.494762e+05  3.480845e+05     4.130945    9131.623427  \n",
       "std     1.393708e+06  1.391270e+06     1.797469   43614.238892  \n",
       "min     5.000000e+03  2.500000e+03     0.000000       0.000000  \n",
       "25%     1.900000e+04  2.236268e+04     4.800000       8.000000  \n",
       "50%     5.500000e+04  6.006310e+04     5.000000     104.000000  \n",
       "75%     2.770735e+05  2.631000e+05     5.000000    1656.750000  \n",
       "max     4.400000e+07  4.400000e+07     5.000000  925221.000000  "
      ]
     },
     "execution_count": 24,
     "metadata": {},
     "output_type": "execute_result"
    }
   ],
   "source": [
    "merge_df.describe(include='all')"
   ]
  },
  {
   "cell_type": "code",
   "execution_count": 25,
   "metadata": {},
   "outputs": [],
   "source": [
    "cat_cols=merge_df.select_dtypes(include='object').columns\n",
    "num_cols=merge_df.select_dtypes(exclude='object').columns"
   ]
  },
  {
   "cell_type": "code",
   "execution_count": 28,
   "metadata": {},
   "outputs": [
    {
     "data": {
      "image/png": "[encoded data removed]",
      "text/plain": [
       "<Figure size 2000x2500 with 6 Axes>"
      ]
     },
     "metadata": {},
     "output_type": "display_data"
    }
   ],
   "source": [
    "# 수치형 분포도\n",
    "\n",
    "plt.figure(figsize=(20,25))\n",
    "\n",
    "for i , feature in enumerate(num_cols,1):\n",
    "    plt.subplot(5,3,i)\n",
    "    sns.histplot(merge_df[feature],bins=30, kde=True, color ='skyblue', edgecolor='black')\n",
    "    plt.title('Histogram : '+ feature)\n",
    "    plt.xlabel(feature)\n",
    "\n",
    "plt.tight_layout()\n",
    "plt.show()"
   ]
  },
  {
   "cell_type": "code",
   "execution_count": 33,
   "metadata": {},
   "outputs": [
    {
     "data": {
      "text/plain": [
       "Index(['판매자ID', '판매자', '판매 서비스 수', '총 판매 금액', '프리미엄 서비스 가입여부',\n",
       "       '신속 알람 서비스 사용여부', '평균서비스가격', '평균판매금액', '평점', '총이용자수'],\n",
       "      dtype='object')"
      ]
     },
     "execution_count": 33,
     "metadata": {},
     "output_type": "execute_result"
    }
   ],
   "source": [
    "merge_df.columns"
   ]
  },
  {
   "cell_type": "code",
   "execution_count": 34,
   "metadata": {},
   "outputs": [
    {
     "data": {
      "image/png": "[encoded data removed]",
      "text/plain": [
       "<Figure size 2000x2500 with 2 Axes>"
      ]
     },
     "metadata": {},
     "output_type": "display_data"
    }
   ],
   "source": [
    "cat_cols=['프리미엄 서비스 가입여부',\t'신속 알람 서비스 사용여부']\n",
    "\n",
    "# 범주형\n",
    "\n",
    "plt.figure(figsize=(20, 25))\n",
    "\n",
    "\n",
    "for i, feature in enumerate(cat_cols, 1):\n",
    "    plt.subplot(5,3, i)\n",
    "    sns.histplot(merge_df[feature], bins=30, color='skyblue', edgecolor='black')\n",
    "    plt.title(\"Histogram: \" + feature)\n",
    "    plt.xlabel(feature)\n",
    "\n",
    "plt.tight_layout()\n",
    "plt.show()\n"
   ]
  },
  {
   "cell_type": "code",
   "execution_count": 36,
   "metadata": {},
   "outputs": [
    {
     "data": {
      "text/html": [
       "<div>\n",
       "<style scoped>\n",
       "    .dataframe tbody tr th:only-of-type {\n",
       "        vertical-align: middle;\n",
       "    }\n",
       "\n",
       "    .dataframe tbody tr th {\n",
       "        vertical-align: top;\n",
       "    }\n",
       "\n",
       "    .dataframe thead th {\n",
       "        text-align: right;\n",
       "    }\n",
       "</style>\n",
       "<table border=\"1\" class=\"dataframe\">\n",
       "  <thead>\n",
       "    <tr style=\"text-align: right;\">\n",
       "      <th></th>\n",
       "      <th>총 판매 금액</th>\n",
       "      <th>총이용자수</th>\n",
       "      <th>판매 서비스 수</th>\n",
       "      <th>평균서비스가격</th>\n",
       "      <th>평균판매금액</th>\n",
       "      <th>평점</th>\n",
       "    </tr>\n",
       "    <tr>\n",
       "      <th>프리미엄 서비스 가입여부</th>\n",
       "      <th></th>\n",
       "      <th></th>\n",
       "      <th></th>\n",
       "      <th></th>\n",
       "      <th></th>\n",
       "      <th></th>\n",
       "    </tr>\n",
       "  </thead>\n",
       "  <tbody>\n",
       "    <tr>\n",
       "      <th>가입</th>\n",
       "      <td>3.714376e+07</td>\n",
       "      <td>23575.489726</td>\n",
       "      <td>395.366438</td>\n",
       "      <td>830898.492081</td>\n",
       "      <td>826907.398722</td>\n",
       "      <td>4.236703</td>\n",
       "    </tr>\n",
       "    <tr>\n",
       "      <th>미가입</th>\n",
       "      <td>6.886931e+06</td>\n",
       "      <td>6754.166291</td>\n",
       "      <td>128.990981</td>\n",
       "      <td>270234.242576</td>\n",
       "      <td>269270.329593</td>\n",
       "      <td>4.113537</td>\n",
       "    </tr>\n",
       "  </tbody>\n",
       "</table>\n",
       "</div>"
      ],
      "text/plain": [
       "                    총 판매 금액         총이용자수    판매 서비스 수        평균서비스가격   \n",
       "프리미엄 서비스 가입여부                                                          \n",
       "가입             3.714376e+07  23575.489726  395.366438  830898.492081  \\\n",
       "미가입            6.886931e+06   6754.166291  128.990981  270234.242576   \n",
       "\n",
       "                      평균판매금액        평점  \n",
       "프리미엄 서비스 가입여부                           \n",
       "가입             826907.398722  4.236703  \n",
       "미가입            269270.329593  4.113537  "
      ]
     },
     "execution_count": 36,
     "metadata": {},
     "output_type": "execute_result"
    }
   ],
   "source": [
    "merge_df.pivot_table(index='프리미엄 서비스 가입여부', values=num_cols, aggfunc='mean')"
   ]
  },
  {
   "cell_type": "code",
   "execution_count": 38,
   "metadata": {},
   "outputs": [],
   "source": [
    "# 가설 검정 필요 : 프리미엄 서비스 가입여부에 따라 평점에 유의미한 영향을 미친다.\n",
    "\n",
    "from scipy import stats\n",
    "\n",
    "\n",
    "premium_df=merge_df[merge_df['프리미엄 서비스 가입여부']=='가입']\n",
    "non_premium_df=merge_df[merge_df['프리미엄 서비스 가입여부']=='미가입']\n"
   ]
  },
  {
   "cell_type": "code",
   "execution_count": 39,
   "metadata": {},
   "outputs": [
    {
     "name": "stdout",
     "output_type": "stream",
     "text": [
      "NormaltestResult(statistic=113.67844448239168, pvalue=2.0655676582142759e-25)\n",
      "NormaltestResult(statistic=492.4163089161199, pvalue=1.1834696345383522e-107)\n"
     ]
    }
   ],
   "source": [
    "# 정규성 판정\n",
    "\n",
    "print(stats.normaltest(premium_df['평점']))\n",
    "print(stats.normaltest(non_premium_df['평점']))"
   ]
  },
  {
   "cell_type": "code",
   "execution_count": 41,
   "metadata": {},
   "outputs": [
    {
     "data": {
      "text/plain": [
       "RanksumsResult(statistic=-1.4430449822770697, pvalue=0.14900780017529822)"
      ]
     },
     "execution_count": 41,
     "metadata": {},
     "output_type": "execute_result"
    }
   ],
   "source": [
    "# 둘 다 pvalue<0.05 로 비정규성을 띠고 있다.\n",
    "\n",
    "stats.ranksums(premium_df['평점'],non_premium_df['평점'])\n"
   ]
  },
  {
   "cell_type": "code",
   "execution_count": null,
   "metadata": {},
   "outputs": [],
   "source": [
    "# 프리미엄 가입 여부는 평점에 유의미한 영향을 미치지 않는다."
   ]
  },
  {
   "cell_type": "code",
   "execution_count": 37,
   "metadata": {},
   "outputs": [
    {
     "data": {
      "text/html": [
       "<div>\n",
       "<style scoped>\n",
       "    .dataframe tbody tr th:only-of-type {\n",
       "        vertical-align: middle;\n",
       "    }\n",
       "\n",
       "    .dataframe tbody tr th {\n",
       "        vertical-align: top;\n",
       "    }\n",
       "\n",
       "    .dataframe thead th {\n",
       "        text-align: right;\n",
       "    }\n",
       "</style>\n",
       "<table border=\"1\" class=\"dataframe\">\n",
       "  <thead>\n",
       "    <tr style=\"text-align: right;\">\n",
       "      <th></th>\n",
       "      <th>총 판매 금액</th>\n",
       "      <th>총이용자수</th>\n",
       "      <th>판매 서비스 수</th>\n",
       "      <th>평균서비스가격</th>\n",
       "      <th>평균판매금액</th>\n",
       "      <th>평점</th>\n",
       "    </tr>\n",
       "    <tr>\n",
       "      <th>신속 알람 서비스 사용여부</th>\n",
       "      <th></th>\n",
       "      <th></th>\n",
       "      <th></th>\n",
       "      <th></th>\n",
       "      <th></th>\n",
       "      <th></th>\n",
       "    </tr>\n",
       "  </thead>\n",
       "  <tbody>\n",
       "    <tr>\n",
       "      <th>미사용</th>\n",
       "      <td>8.801489e+06</td>\n",
       "      <td>2545.763485</td>\n",
       "      <td>66.098992</td>\n",
       "      <td>411826.63397</td>\n",
       "      <td>409482.846687</td>\n",
       "      <td>3.969838</td>\n",
       "    </tr>\n",
       "    <tr>\n",
       "      <th>사용</th>\n",
       "      <td>2.167621e+07</td>\n",
       "      <td>38446.519789</td>\n",
       "      <td>614.163588</td>\n",
       "      <td>71942.94066</td>\n",
       "      <td>74788.819960</td>\n",
       "      <td>4.848059</td>\n",
       "    </tr>\n",
       "  </tbody>\n",
       "</table>\n",
       "</div>"
      ],
      "text/plain": [
       "                     총 판매 금액         총이용자수    판매 서비스 수       평균서비스가격   \n",
       "신속 알람 서비스 사용여부                                                         \n",
       "미사용             8.801489e+06   2545.763485   66.098992  411826.63397  \\\n",
       "사용              2.167621e+07  38446.519789  614.163588   71942.94066   \n",
       "\n",
       "                       평균판매금액        평점  \n",
       "신속 알람 서비스 사용여부                           \n",
       "미사용             409482.846687  3.969838  \n",
       "사용               74788.819960  4.848059  "
      ]
     },
     "execution_count": 37,
     "metadata": {},
     "output_type": "execute_result"
    }
   ],
   "source": [
    "merge_df.pivot_table(index='신속 알람 서비스 사용여부', values=num_cols, aggfunc='mean')"
   ]
  },
  {
   "cell_type": "code",
   "execution_count": 42,
   "metadata": {},
   "outputs": [],
   "source": [
    "# 가설 검정 필요 : 신속 알람 서비스 사용 여부에 따라 평점에 유의미한 영향을 미친다.\n",
    "\n",
    "alram_df=merge_df[merge_df['신속 알람 서비스 사용여부']=='사용']\n",
    "no_alram_df=merge_df[merge_df['신속 알람 서비스 사용여부']=='미사용']\n"
   ]
  },
  {
   "cell_type": "code",
   "execution_count": 44,
   "metadata": {},
   "outputs": [
    {
     "name": "stdout",
     "output_type": "stream",
     "text": [
      "NormaltestResult(statistic=480.0240235308502, pvalue=5.8090845793032244e-105)\n",
      "NormaltestResult(statistic=361.10839918007383, pvalue=3.857513313171682e-79)\n"
     ]
    }
   ],
   "source": [
    "# 정규성 판정\n",
    "print(stats.normaltest(alram_df['평점']))\n",
    "print(stats.normaltest(no_alram_df['평점']))\n"
   ]
  },
  {
   "cell_type": "code",
   "execution_count": 47,
   "metadata": {},
   "outputs": [
    {
     "data": {
      "text/plain": [
       "RanksumsResult(statistic=4.232694307564097, pvalue=2.3090826591936934e-05)"
      ]
     },
     "execution_count": 47,
     "metadata": {},
     "output_type": "execute_result"
    }
   ],
   "source": [
    "# 둘 다 비정규성을 띤다.\n",
    "\n",
    "\n",
    "stats.ranksums(alram_df['평점'],no_alram_df['평점'])"
   ]
  },
  {
   "cell_type": "code",
   "execution_count": 48,
   "metadata": {},
   "outputs": [],
   "source": [
    "# 신속 알람 서비스 여부에 따라 평점에 유의미한 영향을 미친다."
   ]
  },
  {
   "cell_type": "code",
   "execution_count": 51,
   "metadata": {},
   "outputs": [
    {
     "data": {
      "image/png": "[encoded data removed]",
      "text/plain": [
       "<Figure size 1200x600 with 1 Axes>"
      ]
     },
     "metadata": {},
     "output_type": "display_data"
    }
   ],
   "source": [
    "plt.figure(figsize=(12, 6))\n",
    "\n",
    "# 알림 서비스 사용 고객의 평점 분포\n",
    "plt.hist(alram_df['평점'], bins=30, alpha=0.5, label='알림 서비스 사용')\n",
    "\n",
    "# 알림 서비스 미사용 고객의 평점 분포\n",
    "plt.hist(no_alram_df['평점'], bins=30, alpha=0.5, label='알림 서비스 미사용')\n",
    "\n",
    "plt.xlabel(' 평점')\n",
    "plt.ylabel('고객 수')\n",
    "plt.title('알림 서비스 사용 여부에 따른 평균 평점 분포')\n",
    "plt.legend(loc='upper right')\n",
    "plt.show()"
   ]
  },
  {
   "cell_type": "code",
   "execution_count": 54,
   "metadata": {},
   "outputs": [
    {
     "data": {
      "text/plain": [
       "거래일자             0\n",
       "수수료율             0\n",
       "고객ID             0\n",
       "프로그램수정횟수         0\n",
       "추가결제금액           0\n",
       "거래취소여부      339702\n",
       "거래취소일자      339702\n",
       "서비스명            22\n",
       "판매자             22\n",
       "판매금액            21\n",
       "서비스가격           22\n",
       "평점              22\n",
       "이용자수            22\n",
       "대분류             22\n",
       "서비스번호           22\n",
       "dtype: int64"
      ]
     },
     "execution_count": 54,
     "metadata": {},
     "output_type": "execute_result"
    }
   ],
   "source": [
    "# 평점이 미치는 영향 파악\n",
    "# 고객은 전문가를 선택할 떄 어떤 기준으로 선택해야 알맞은 서비스를 받을 수 있을까?\n",
    "# 일반적으로 평점으로 판단한다고 가정했을 때, 평점으로 서비스의 이용을 결정할 적절한 기준이 될 수 있을까?\n",
    "\n",
    "\n",
    "log_df.isna().sum()"
   ]
  },
  {
   "cell_type": "code",
   "execution_count": 55,
   "metadata": {},
   "outputs": [],
   "source": [
    "log_df['거래취소여부']=log_df['거래취소여부'].fillna(0)\n",
    "log_df['거래취소일자']=log_df['거래취소일자'].fillna(0)"
   ]
  },
  {
   "cell_type": "code",
   "execution_count": 57,
   "metadata": {},
   "outputs": [],
   "source": [
    "log_df.dropna(inplace=True)"
   ]
  },
  {
   "cell_type": "code",
   "execution_count": 59,
   "metadata": {},
   "outputs": [
    {
     "data": {
      "text/plain": [
       "거래일자        0\n",
       "수수료율        0\n",
       "고객ID        0\n",
       "프로그램수정횟수    0\n",
       "추가결제금액      0\n",
       "거래취소여부      0\n",
       "거래취소일자      0\n",
       "서비스명        0\n",
       "판매자         0\n",
       "판매금액        0\n",
       "서비스가격       0\n",
       "평점          0\n",
       "이용자수        0\n",
       "대분류         0\n",
       "서비스번호       0\n",
       "dtype: int64"
      ]
     },
     "execution_count": 59,
     "metadata": {},
     "output_type": "execute_result"
    }
   ],
   "source": [
    "log_df.isna().sum()"
   ]
  },
  {
   "cell_type": "code",
   "execution_count": 60,
   "metadata": {},
   "outputs": [
    {
     "data": {
      "text/plain": [
       "거래취소여부\n",
       "0.0    339680\n",
       "1.0      4597\n",
       "Name: count, dtype: int64"
      ]
     },
     "execution_count": 60,
     "metadata": {},
     "output_type": "execute_result"
    }
   ],
   "source": [
    "log_df['거래취소여부'].value_counts()"
   ]
  },
  {
   "cell_type": "code",
   "execution_count": 61,
   "metadata": {},
   "outputs": [
    {
     "data": {
      "text/plain": [
       "<Axes: xlabel='거래취소여부', ylabel='count'>"
      ]
     },
     "execution_count": 61,
     "metadata": {},
     "output_type": "execute_result"
    },
    {
     "data": {
      "image/png": "[encoded data removed]",
      "text/plain": [
       "<Figure size 640x480 with 1 Axes>"
      ]
     },
     "metadata": {},
     "output_type": "display_data"
    }
   ],
   "source": [
    "sns.countplot(data=log_df,x='거래취소여부')"
   ]
  },
  {
   "cell_type": "code",
   "execution_count": 62,
   "metadata": {},
   "outputs": [
    {
     "data": {
      "text/plain": [
       "Index(['거래일자', '수수료율', '고객ID', '프로그램수정횟수', '추가결제금액', '거래취소여부', '거래취소일자',\n",
       "       '서비스명', '판매자', '판매금액', '서비스가격', '평점', '이용자수', '대분류', '서비스번호'],\n",
       "      dtype='object')"
      ]
     },
     "execution_count": 62,
     "metadata": {},
     "output_type": "execute_result"
    }
   ],
   "source": [
    "log_df.columns"
   ]
  },
  {
   "cell_type": "code",
   "execution_count": 64,
   "metadata": {},
   "outputs": [
    {
     "data": {
      "text/html": [
       "<div>\n",
       "<style scoped>\n",
       "    .dataframe tbody tr th:only-of-type {\n",
       "        vertical-align: middle;\n",
       "    }\n",
       "\n",
       "    .dataframe tbody tr th {\n",
       "        vertical-align: top;\n",
       "    }\n",
       "\n",
       "    .dataframe thead th {\n",
       "        text-align: right;\n",
       "    }\n",
       "</style>\n",
       "<table border=\"1\" class=\"dataframe\">\n",
       "  <thead>\n",
       "    <tr style=\"text-align: right;\">\n",
       "      <th></th>\n",
       "      <th>서비스가격</th>\n",
       "      <th>이용자수</th>\n",
       "      <th>추가결제금액</th>\n",
       "      <th>판매금액</th>\n",
       "      <th>평점</th>\n",
       "      <th>프로그램수정횟수</th>\n",
       "    </tr>\n",
       "    <tr>\n",
       "      <th>거래취소여부</th>\n",
       "      <th></th>\n",
       "      <th></th>\n",
       "      <th></th>\n",
       "      <th></th>\n",
       "      <th></th>\n",
       "      <th></th>\n",
       "    </tr>\n",
       "  </thead>\n",
       "  <tbody>\n",
       "    <tr>\n",
       "      <th>0.0</th>\n",
       "      <td>60329.457136</td>\n",
       "      <td>54.77845</td>\n",
       "      <td>4052.348010</td>\n",
       "      <td>63844.226566</td>\n",
       "      <td>4.833312</td>\n",
       "      <td>0.18945</td>\n",
       "    </tr>\n",
       "    <tr>\n",
       "      <th>1.0</th>\n",
       "      <td>64822.166630</td>\n",
       "      <td>56.29541</td>\n",
       "      <td>6.634762</td>\n",
       "      <td>55.579726</td>\n",
       "      <td>4.748967</td>\n",
       "      <td>-0.99826</td>\n",
       "    </tr>\n",
       "  </tbody>\n",
       "</table>\n",
       "</div>"
      ],
      "text/plain": [
       "               서비스가격      이용자수       추가결제금액          판매금액        평점  프로그램수정횟수\n",
       "거래취소여부                                                                       \n",
       "0.0     60329.457136  54.77845  4052.348010  63844.226566  4.833312   0.18945\n",
       "1.0     64822.166630  56.29541     6.634762     55.579726  4.748967  -0.99826"
      ]
     },
     "execution_count": 64,
     "metadata": {},
     "output_type": "execute_result"
    }
   ],
   "source": [
    "log_df.pivot_table(index='거래취소여부', values=['프로그램수정횟수', '추가결제금액','판매금액', '서비스가격', '평점', '이용자수'],aggfunc='mean')"
   ]
  },
  {
   "cell_type": "code",
   "execution_count": 66,
   "metadata": {},
   "outputs": [],
   "source": [
    "cancel_df=log_df[log_df['거래취소여부']==1]\n",
    "non_cancel_df=log_df[log_df['거래취소여부']==0]\n"
   ]
  },
  {
   "cell_type": "code",
   "execution_count": 69,
   "metadata": {},
   "outputs": [
    {
     "data": {
      "text/html": [
       "<div>\n",
       "<style scoped>\n",
       "    .dataframe tbody tr th:only-of-type {\n",
       "        vertical-align: middle;\n",
       "    }\n",
       "\n",
       "    .dataframe tbody tr th {\n",
       "        vertical-align: top;\n",
       "    }\n",
       "\n",
       "    .dataframe thead th {\n",
       "        text-align: right;\n",
       "    }\n",
       "</style>\n",
       "<table border=\"1\" class=\"dataframe\">\n",
       "  <thead>\n",
       "    <tr style=\"text-align: right;\">\n",
       "      <th></th>\n",
       "      <th>거래일자</th>\n",
       "      <th>수수료율</th>\n",
       "      <th>고객ID</th>\n",
       "      <th>프로그램수정횟수</th>\n",
       "      <th>추가결제금액</th>\n",
       "      <th>거래취소여부</th>\n",
       "      <th>거래취소일자</th>\n",
       "      <th>서비스명</th>\n",
       "      <th>판매자</th>\n",
       "      <th>판매금액</th>\n",
       "      <th>서비스가격</th>\n",
       "      <th>평점</th>\n",
       "      <th>이용자수</th>\n",
       "      <th>대분류</th>\n",
       "      <th>서비스번호</th>\n",
       "    </tr>\n",
       "  </thead>\n",
       "  <tbody>\n",
       "    <tr>\n",
       "      <th>174</th>\n",
       "      <td>20210201</td>\n",
       "      <td>7.5</td>\n",
       "      <td>10020100522</td>\n",
       "      <td>-1.0</td>\n",
       "      <td>0</td>\n",
       "      <td>1.0</td>\n",
       "      <td>20210201.0</td>\n",
       "      <td>고퀄리티 반응형 홈페이지를 드립니다.</td>\n",
       "      <td>포인원</td>\n",
       "      <td>0.0</td>\n",
       "      <td>270000.0</td>\n",
       "      <td>5.0</td>\n",
       "      <td>207.0</td>\n",
       "      <td>홈페이지</td>\n",
       "      <td>2146.0</td>\n",
       "    </tr>\n",
       "    <tr>\n",
       "      <th>246</th>\n",
       "      <td>20210201</td>\n",
       "      <td>9.0</td>\n",
       "      <td>130202005142</td>\n",
       "      <td>-1.0</td>\n",
       "      <td>0</td>\n",
       "      <td>1.0</td>\n",
       "      <td>20210201.0</td>\n",
       "      <td>사람 일을 대신하는 메크로 프로그램 개발해 드립니다.</td>\n",
       "      <td>오토프로메이커</td>\n",
       "      <td>0.0</td>\n",
       "      <td>33000.0</td>\n",
       "      <td>5.0</td>\n",
       "      <td>179.0</td>\n",
       "      <td>프로그램</td>\n",
       "      <td>2168.0</td>\n",
       "    </tr>\n",
       "    <tr>\n",
       "      <th>248</th>\n",
       "      <td>20210201</td>\n",
       "      <td>6.5</td>\n",
       "      <td>13020200731</td>\n",
       "      <td>-1.0</td>\n",
       "      <td>0</td>\n",
       "      <td>1.0</td>\n",
       "      <td>20210201.0</td>\n",
       "      <td>사람 일을 대신하는 메크로 프로그램 개발해 드립니다.</td>\n",
       "      <td>오토프로메이커</td>\n",
       "      <td>0.0</td>\n",
       "      <td>33000.0</td>\n",
       "      <td>5.0</td>\n",
       "      <td>179.0</td>\n",
       "      <td>프로그램</td>\n",
       "      <td>2168.0</td>\n",
       "    </tr>\n",
       "  </tbody>\n",
       "</table>\n",
       "</div>"
      ],
      "text/plain": [
       "         거래일자  수수료율          고객ID  프로그램수정횟수  추가결제금액  거래취소여부      거래취소일자   \n",
       "174  20210201   7.5   10020100522      -1.0       0     1.0  20210201.0  \\\n",
       "246  20210201   9.0  130202005142      -1.0       0     1.0  20210201.0   \n",
       "248  20210201   6.5   13020200731      -1.0       0     1.0  20210201.0   \n",
       "\n",
       "                              서비스명      판매자  판매금액     서비스가격   평점   이용자수   대분류   \n",
       "174           고퀄리티 반응형 홈페이지를 드립니다.      포인원   0.0  270000.0  5.0  207.0  홈페이지  \\\n",
       "246  사람 일을 대신하는 메크로 프로그램 개발해 드립니다.  오토프로메이커   0.0   33000.0  5.0  179.0  프로그램   \n",
       "248  사람 일을 대신하는 메크로 프로그램 개발해 드립니다.  오토프로메이커   0.0   33000.0  5.0  179.0  프로그램   \n",
       "\n",
       "      서비스번호  \n",
       "174  2146.0  \n",
       "246  2168.0  \n",
       "248  2168.0  "
      ]
     },
     "execution_count": 69,
     "metadata": {},
     "output_type": "execute_result"
    }
   ],
   "source": [
    "cancel_df.head(3)"
   ]
  },
  {
   "cell_type": "code",
   "execution_count": 71,
   "metadata": {},
   "outputs": [
    {
     "name": "stdout",
     "output_type": "stream",
     "text": [
      "NormaltestResult(statistic=3982.504914556782, pvalue=0.0)\n",
      "NormaltestResult(statistic=360955.9457686527, pvalue=0.0)\n"
     ]
    }
   ],
   "source": [
    "# 정규성 판정\n",
    "\n",
    "print(stats.normaltest(cancel_df['평점']))\n",
    "print(stats.normaltest(non_cancel_df['평점']))\n"
   ]
  },
  {
   "cell_type": "code",
   "execution_count": 72,
   "metadata": {},
   "outputs": [
    {
     "data": {
      "text/plain": [
       "RanksumsResult(statistic=-2.158730049959012, pvalue=0.03087111605066262)"
      ]
     },
     "execution_count": 72,
     "metadata": {},
     "output_type": "execute_result"
    }
   ],
   "source": [
    "# 둘 다 비정규성 띤다.\n",
    "\n",
    "stats.ranksums(cancel_df['평점'],non_cancel_df['평점'])"
   ]
  },
  {
   "cell_type": "code",
   "execution_count": null,
   "metadata": {},
   "outputs": [],
   "source": [
    "# 거래 취소 여부별로 평점에 유의미한 차이 있다. "
   ]
  },
  {
   "cell_type": "code",
   "execution_count": 77,
   "metadata": {},
   "outputs": [
    {
     "data": {
      "text/plain": [
       "<Axes: >"
      ]
     },
     "execution_count": 77,
     "metadata": {},
     "output_type": "execute_result"
    },
    {
     "data": {
      "image/png": "[encoded data removed]",
      "text/plain": [
       "<Figure size 1500x1000 with 2 Axes>"
      ]
     },
     "metadata": {},
     "output_type": "display_data"
    }
   ],
   "source": [
    "num_cols=log_df.select_dtypes(exclude='object').columns\n",
    "\n",
    "\n",
    "plt.figure(figsize=(15,10))\n",
    "cor=log_df[num_cols].corr()\n",
    "sns.heatmap(cor,annot=True, cmap='coolwarm')"
   ]
  },
  {
   "cell_type": "code",
   "execution_count": 83,
   "metadata": {},
   "outputs": [
    {
     "data": {
      "text/plain": [
       "<Axes: xlabel='대분류'>"
      ]
     },
     "execution_count": 83,
     "metadata": {},
     "output_type": "execute_result"
    },
    {
     "data": {
      "image/png": "[encoded data removed]",
      "text/plain": [
       "<Figure size 640x480 with 1 Axes>"
      ]
     },
     "metadata": {},
     "output_type": "display_data"
    }
   ],
   "source": [
    "log_df.groupby(['대분류'])['평점'].mean().plot.bar()"
   ]
  },
  {
   "cell_type": "code",
   "execution_count": 86,
   "metadata": {},
   "outputs": [
    {
     "name": "stdout",
     "output_type": "stream",
     "text": [
      "<class 'pandas.core.frame.DataFrame'>\n",
      "Index: 344277 entries, 0 to 344298\n",
      "Data columns (total 15 columns):\n",
      " #   Column    Non-Null Count   Dtype  \n",
      "---  ------    --------------   -----  \n",
      " 0   거래일자      344277 non-null  int64  \n",
      " 1   수수료율      344277 non-null  float64\n",
      " 2   고객ID      344277 non-null  int64  \n",
      " 3   프로그램수정횟수  344277 non-null  float64\n",
      " 4   추가결제금액    344277 non-null  int64  \n",
      " 5   거래취소여부    344277 non-null  float64\n",
      " 6   거래취소일자    344277 non-null  float64\n",
      " 7   서비스명      344277 non-null  object \n",
      " 8   판매자       344277 non-null  object \n",
      " 9   판매금액      344277 non-null  float64\n",
      " 10  서비스가격     344277 non-null  float64\n",
      " 11  평점        344277 non-null  float64\n",
      " 12  이용자수      344277 non-null  float64\n",
      " 13  대분류       344277 non-null  object \n",
      " 14  서비스번호     344277 non-null  float64\n",
      "dtypes: float64(9), int64(3), object(3)\n",
      "memory usage: 42.0+ MB\n"
     ]
    }
   ],
   "source": [
    "log_df.info()"
   ]
  },
  {
   "cell_type": "code",
   "execution_count": 93,
   "metadata": {},
   "outputs": [
    {
     "data": {
      "text/html": [
       "<div>\n",
       "<style scoped>\n",
       "    .dataframe tbody tr th:only-of-type {\n",
       "        vertical-align: middle;\n",
       "    }\n",
       "\n",
       "    .dataframe tbody tr th {\n",
       "        vertical-align: top;\n",
       "    }\n",
       "\n",
       "    .dataframe thead th {\n",
       "        text-align: right;\n",
       "    }\n",
       "</style>\n",
       "<table border=\"1\" class=\"dataframe\">\n",
       "  <thead>\n",
       "    <tr style=\"text-align: right;\">\n",
       "      <th></th>\n",
       "      <th>이용자수</th>\n",
       "      <th>판매금액</th>\n",
       "      <th>서비스가격</th>\n",
       "      <th>평점</th>\n",
       "    </tr>\n",
       "  </thead>\n",
       "  <tbody>\n",
       "    <tr>\n",
       "      <th>이용자수</th>\n",
       "      <td>1.000000</td>\n",
       "      <td>-0.087263</td>\n",
       "      <td>-0.088837</td>\n",
       "      <td>0.113282</td>\n",
       "    </tr>\n",
       "    <tr>\n",
       "      <th>판매금액</th>\n",
       "      <td>-0.087263</td>\n",
       "      <td>1.000000</td>\n",
       "      <td>0.994394</td>\n",
       "      <td>-0.187469</td>\n",
       "    </tr>\n",
       "    <tr>\n",
       "      <th>서비스가격</th>\n",
       "      <td>-0.088837</td>\n",
       "      <td>0.994394</td>\n",
       "      <td>1.000000</td>\n",
       "      <td>-0.191892</td>\n",
       "    </tr>\n",
       "    <tr>\n",
       "      <th>평점</th>\n",
       "      <td>0.113282</td>\n",
       "      <td>-0.187469</td>\n",
       "      <td>-0.191892</td>\n",
       "      <td>1.000000</td>\n",
       "    </tr>\n",
       "  </tbody>\n",
       "</table>\n",
       "</div>"
      ],
      "text/plain": [
       "           이용자수      판매금액     서비스가격        평점\n",
       "이용자수   1.000000 -0.087263 -0.088837  0.113282\n",
       "판매금액  -0.087263  1.000000  0.994394 -0.187469\n",
       "서비스가격 -0.088837  0.994394  1.000000 -0.191892\n",
       "평점     0.113282 -0.187469 -0.191892  1.000000"
      ]
     },
     "execution_count": 93,
     "metadata": {},
     "output_type": "execute_result"
    }
   ],
   "source": [
    "# 이용자수, 판매금액, 서비스가격 이 평점에 미치는 영향  파악\n",
    "# 상관 관계 분석\n",
    "# 회귀분석\n",
    "\n",
    "cor2=log_df[['이용자수', '판매금액', '서비스가격','평점']].corr()\n",
    "cor2"
   ]
  },
  {
   "cell_type": "code",
   "execution_count": 95,
   "metadata": {},
   "outputs": [
    {
     "data": {
      "image/png": "[encoded data removed]",
      "text/plain": [
       "<Figure size 800x600 with 2 Axes>"
      ]
     },
     "metadata": {},
     "output_type": "display_data"
    }
   ],
   "source": [
    "cor2_sorted = cor2[['평점']].sort_values(by='평점', ascending=False)\n",
    "\n",
    "# 히트맵 그리기\n",
    "plt.figure(figsize=(8, 6))\n",
    "sns.heatmap(cor2_sorted, annot=True, cmap='coolwarm', vmin=-1, vmax=1)\n",
    "plt.title(' 평점과의 상관관계')\n",
    "plt.show()"
   ]
  },
  {
   "cell_type": "code",
   "execution_count": 96,
   "metadata": {},
   "outputs": [],
   "source": [
    "# 회귀분석\n",
    "\n",
    "\n",
    "import statsmodels.api as sm\n",
    "\n",
    "X=log_df[['이용자수', '판매금액', '서비스가격']]\n",
    "Y=log_df['평점']"
   ]
  },
  {
   "cell_type": "code",
   "execution_count": 97,
   "metadata": {},
   "outputs": [],
   "source": [
    "X=sm.add_constant(X)\n",
    "model=sm.OLS(Y,X).fit()"
   ]
  },
  {
   "cell_type": "code",
   "execution_count": 99,
   "metadata": {},
   "outputs": [
    {
     "name": "stdout",
     "output_type": "stream",
     "text": [
      "                            OLS Regression Results                            \n",
      "==============================================================================\n",
      "Dep. Variable:                     평점   R-squared:                       0.047\n",
      "Model:                            OLS   Adj. R-squared:                  0.047\n",
      "Method:                 Least Squares   F-statistic:                     5672.\n",
      "Date:                Fri, 30 Aug 2024   Prob (F-statistic):               0.00\n",
      "Time:                        15:42:59   Log-Likelihood:            -4.0735e+05\n",
      "No. Observations:              344277   AIC:                         8.147e+05\n",
      "Df Residuals:                  344273   BIC:                         8.147e+05\n",
      "Df Model:                           3                                         \n",
      "Covariance Type:            nonrobust                                         \n",
      "==============================================================================\n",
      "                 coef    std err          t      P>|t|      [0.025      0.975]\n",
      "------------------------------------------------------------------------------\n",
      "const          4.8168      0.002   2959.005      0.000       4.814       4.820\n",
      "이용자수           0.0009   1.49e-05     57.883      0.000       0.001       0.001\n",
      "판매금액        9.142e-07   4.96e-08     18.438      0.000    8.17e-07    1.01e-06\n",
      "서비스가격      -1.483e-06   4.95e-08    -29.979      0.000   -1.58e-06   -1.39e-06\n",
      "==============================================================================\n",
      "Omnibus:                   352490.823   Durbin-Watson:                   0.401\n",
      "Prob(Omnibus):                  0.000   Jarque-Bera (JB):         16793978.336\n",
      "Skew:                          -5.299   Prob(JB):                         0.00\n",
      "Kurtosis:                      35.533   Cond. No.                     4.52e+05\n",
      "==============================================================================\n",
      "\n",
      "Notes:\n",
      "[1] Standard Errors assume that the covariance matrix of the errors is correctly specified.\n",
      "[2] The condition number is large, 4.52e+05. This might indicate that there are\n",
      "strong multicollinearity or other numerical problems.\n"
     ]
    }
   ],
   "source": [
    "print(model.summary())"
   ]
  },
  {
   "cell_type": "code",
   "execution_count": null,
   "metadata": {},
   "outputs": [],
   "source": []
  }
 ],
 "metadata": {
  "kernelspec": {
   "display_name": "Python 3 (ipykernel)",
   "language": "python",
   "name": "python3"
  },
  "language_info": {
   "codemirror_mode": {
    "name": "ipython",
    "version": 3
   },
   "file_extension": ".py",
   "mimetype": "text/x-python",
   "name": "python",
   "nbconvert_exporter": "python",
   "pygments_lexer": "ipython3",
   "version": "3.11.9"
  }
 },
 "nbformat": 4,
 "nbformat_minor": 4
}
